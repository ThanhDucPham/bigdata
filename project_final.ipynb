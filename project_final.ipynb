{
 "cells": [
  {
   "cell_type": "markdown",
   "metadata": {},
   "source": [
    "# Đánh giá rủi ro tài chính thông qua phép mô phỏng Monte Carlo\n",
    "### Mục tiêu :\n",
    "<ol>\n",
    "  <li>Nắm vững kiến trức cơ bản về phân tích rủi ro</li>\n",
    "  <li>Hiểu phép mô phỏng Monte Carlo</li>\n",
    "  <li>Áp dụng phép mô phỏng Monte Carlo cho việc dự đoán rủi ro thông qua việc tính toán chỉ số rủi ro <mark>VaR</mark></li>\n",
    "</ol> \n",
    "\n",
    "- INPUT: giá trị các cổ phiếu, giá dầu thô, giá trái phiếu chính phủ Hoa Kỳ\n",
    "- OUTPUT: giá trị rủi ro của một khoản đầu tư \n",
    "\n",
    "### Thuật ngữ :\n",
    "__Instrument__ : Tài sản có thể trao đổi được như trái phiếu, vốn đầu tư. Trong một thời điểm nhất định, nó được coi như là có <b>giá trị</b>. Đó là <b>giá trị</b> mà nó có thể được bán.<br>\n",
    "__Market Factor__ : Giá trị cung cấp cho ta một cái nhìn vĩ mô về thị trường tài chính tại một thời điểm cụ thể( ví dụ như tỉ giá hối đoái giữa giá USD và euro)\n",
    "__Return__ : Giá trị thay đổi của giá trị của một _Instrument_ trong một khoảng thời gian<br>\n",
    "__Loss__ : Giá trị _Return_ âm <br>\n",
    "__VaR__ : _Value at Risk_ - Chỉ số đo lường rủi ro đầu tư khi muốn đánh giá khả năng thiệt hại lớn nhất khi đầu tư trong một khoảng thời gian nhất định. Ví dụ : <br>\n",
    "Với giá trị VaR 5% của 1 triệu USD, trong khoảng thời gian 2 tuần : ta có 5% nguy cơ bị mất nhiều hơn 1 triệu USD<br>\n",
    "\n",
    "__CVaR__ : _Conditional Value at Risk_ <br>\n",
    "Ví dụ : <br>\n",
    "Với giá trị CVaR 5% của 5 triệu USD, trong khoảng thời gian 2 tuần : tổn thất trung bình trong 5% kết quả tồi tệ nhất là 5 triệu USD.<br>\n",
    "\n",
    "\n",
    "### Phép mô phỏng Monte Carlo\n",
    "  Monte Carlo là một kỹ thuật chuyển đổi các biến đầu vào của mô hình thành phân phối xác suất. Bằng cách chọn ngẫu nhiên các giá trị từ phân phối xác suất đó, nó sẽ tính toán lại mô hình mô phỏng nhiều lần, để xác định phân phối đầu ra. \n",
    "<ol>\n",
    "    <li> Định nghĩa mỗi quan hệ giữa điều kiện thị trường ( Factor ) và giá cổ phiếu thay đổi ( Stock's return ) : Tuyến tính</li>\n",
    "    <li>Định nghĩa phân phối cho điều kiện thị trường từ các giá trị đã có</li>\n",
    "    <li>Đặt ra các phép thử đối với điều kiện thị trường được lấy ngẫu nhiên từ phân phối đã định nghĩa </li>\n",
    "    <li>Tính toán loss cho mỗi phép thử, sử dụng những giá trị đó để định nghĩa một phân phối thực nghiệm trên toàn losses</li>\n",
    "</ol>\n",
    "\n",
    "### Dữ liệu\n",
    "Dữ liệu được thu thấp theo ngày, trừ những ngày nghỉ sẽ không có.<br>\n",
    "__Instrument__ : Stock AAME ( Atlantic American Corporation), dữ liệu có từ 3/1/2000 đến 31/12/2013 <br>\n",
    "__Factor__ : \n",
    "<ul>\n",
    "    <li>GSPC</li>\n",
    "- Đại diện cho chỉ số index S&P 500:  là một chỉ số cổ phiếu dựa trên cổ phiếu phổ thông của 500 công ty có vốn hóa thị trường lớn nhất niêm yết trên NYSE hoặc NASDAQ, Mỹ, nhằm cung cấp cho các nhà đầu tư thông tin về sự chuyển động tổng thể của thị trường.<br/>\n",
    "- Tỉ lệ và loại cổ phiếu sử dụng để tính toán chỉ số S&P 500 được quyết định bởi hãng S&P Dow Jones Indices. Điều này khiến chỉ số S&P 500 khác với các chỉ số thị trường chứng khoán khác của Mĩ như chỉ số công nghiệp Dow Jones hay chỉ số Nasdaq Composite.<br>\n",
    "- Chỉ số S&P 500 là một trong những chỉ số khách quan và được quan tâm nhất, rất nhiều nhà đầu tư coi đây là thước đo tốt nhất của thị trường chứng khoán Mĩ cũng như là một chỉ số chủ đạo của nền kinh tế\n",
    "    <li>IXIC</li> \n",
    "- Ký hiệu cho chỉ số Nasdaq Composite: được xây dựng trên giá cổ phiếu của toàn bộ các công ty niêm yết trên sàn giao dịch chứng khoán Nasdaq<br>\n",
    "    <li>crudeoil</li> \n",
    "- Giá dầu thô.\n",
    "    <li>us30yeartreasurybonds</li>\n",
    "- Giá trái phiếu chính phủ do Kho bạc Hoa Kỳ phát hành, đáo hạn trong vòng 30 năm.\n",
    "</ul>"
   ]
  },
  {
   "cell_type": "code",
   "execution_count": 1,
   "metadata": {},
   "outputs": [],
   "source": [
    "try:\n",
    "    sc.stop()\n",
    "except:\n",
    "    pass\n",
    "from pyspark import SparkContext, SparkConf\n",
    "from pyspark.sql import SparkSession\n",
    "sc=SparkContext()\n",
    "spark = SparkSession(sparkContext=sc)"
   ]
  },
  {
   "cell_type": "code",
   "execution_count": 2,
   "metadata": {},
   "outputs": [],
   "source": [
    "data_dir = './data/'"
   ]
  },
  {
   "cell_type": "markdown",
   "metadata": {},
   "source": [
    "# 1. Xử lý dữ liệu"
   ]
  },
  {
   "cell_type": "markdown",
   "metadata": {},
   "source": [
    "## Chuẩn bị dữ liệu cho Stock"
   ]
  },
  {
   "cell_type": "markdown",
   "metadata": {},
   "source": [
    "### Đọc dữ liệu"
   ]
  },
  {
   "cell_type": "code",
   "execution_count": 3,
   "metadata": {},
   "outputs": [],
   "source": [
    "from pyspark.sql.functions import udf\n",
    "import datetime\n",
    "\n",
    "def readData(file) :\n",
    "    stock = spark.read.csv(path=file,\n",
    "                        sep=',',\n",
    "                        encoding='UTF-8',\n",
    "                        comment=None,\n",
    "                        header=True, \n",
    "                        inferSchema=True)\n",
    "    return stock"
   ]
  },
  {
   "cell_type": "code",
   "execution_count": 4,
   "metadata": {},
   "outputs": [
    {
     "name": "stdout",
     "output_type": "stream",
     "text": [
      "+---------+----+----+----+-----+------+\n",
      "|     Date|Open|High| Low|Close|Volume|\n",
      "+---------+----+----+----+-----+------+\n",
      "|31-Dec-13|4.04|4.13|3.96| 4.09| 30735|\n",
      "|30-Dec-13|4.05|4.05|3.84|  3.9| 14646|\n",
      "|27-Dec-13|4.02|4.05|3.99| 4.05|  5047|\n",
      "|26-Dec-13|3.99|4.04|3.70| 4.01|  6309|\n",
      "|24-Dec-13|3.90|3.97|3.84| 3.95| 13592|\n",
      "+---------+----+----+----+-----+------+\n",
      "only showing top 5 rows\n",
      "\n"
     ]
    }
   ],
   "source": [
    "stock = readData(data_dir+'/stocks/AAME.csv')\n",
    "stock.show(5)"
   ]
  },
  {
   "cell_type": "code",
   "execution_count": 5,
   "metadata": {},
   "outputs": [
    {
     "name": "stdout",
     "output_type": "stream",
     "text": [
      "root\n",
      " |-- Date: string (nullable = true)\n",
      " |-- Open: string (nullable = true)\n",
      " |-- High: string (nullable = true)\n",
      " |-- Low: string (nullable = true)\n",
      " |-- Close: double (nullable = true)\n",
      " |-- Volume: integer (nullable = true)\n",
      "\n"
     ]
    }
   ],
   "source": [
    "stock.printSchema()"
   ]
  },
  {
   "cell_type": "markdown",
   "metadata": {},
   "source": [
    "### Chuẩn hóa dữ liệu\n",
    "\n",
    "#### Dữ liệu sẽ được cắt bớt chỉ sử dụng cột Date và Open( giá mở cửa)"
   ]
  },
  {
   "cell_type": "code",
   "execution_count": 6,
   "metadata": {},
   "outputs": [],
   "source": [
    "from pyspark.sql.functions import udf\n",
    "from pyspark.sql.functions import unix_timestamp, to_timestamp\n",
    "\n",
    "def convertTimeStock(stock) :\n",
    "    # Chỉ lấy dữ liệu Date và Open\n",
    "    stock = stock['Date','Open']\n",
    "    # Chuyển Open thành kiểu float\n",
    "    stock = stock.withColumn(\"Open\",stock[\"Open\"].cast('float'))\n",
    "    # Chuyển Date thành kiểu timestamp\n",
    "    def toDate(cols) :\n",
    "        date = unix_timestamp(cols, 'dd-MMM-yy')                \n",
    "        return date\n",
    "    \n",
    "    convert_time= stock.withColumn(\"Date\",to_timestamp(toDate(stock.Date)))\n",
    "    \n",
    "    return convert_time"
   ]
  },
  {
   "cell_type": "code",
   "execution_count": 7,
   "metadata": {
    "scrolled": true
   },
   "outputs": [
    {
     "name": "stdout",
     "output_type": "stream",
     "text": [
      "+-------------------+----+\n",
      "|               Date|Open|\n",
      "+-------------------+----+\n",
      "|2013-12-31 00:00:00|4.04|\n",
      "|2013-12-30 00:00:00|4.05|\n",
      "|2013-12-27 00:00:00|4.02|\n",
      "|2013-12-26 00:00:00|3.99|\n",
      "|2013-12-24 00:00:00| 3.9|\n",
      "+-------------------+----+\n",
      "only showing top 5 rows\n",
      "\n",
      "root\n",
      " |-- Date: timestamp (nullable = true)\n",
      " |-- Open: float (nullable = true)\n",
      "\n"
     ]
    }
   ],
   "source": [
    "convert_time_stock = convertTimeStock(stock)\n",
    "convert_time_stock.show(5)\n",
    "convert_time_stock.printSchema()"
   ]
  },
  {
   "cell_type": "markdown",
   "metadata": {},
   "source": [
    "### Điền dữ liệu bị thiếu"
   ]
  },
  {
   "cell_type": "code",
   "execution_count": 8,
   "metadata": {},
   "outputs": [
    {
     "data": {
      "text/plain": [
       "[Row(Date=datetime.datetime(2010, 6, 15, 0, 0), Open=1.399999976158142),\n",
       " Row(Date=datetime.datetime(2010, 6, 14, 0, 0), Open=None),\n",
       " Row(Date=datetime.datetime(2010, 6, 11, 0, 0), Open=None),\n",
       " Row(Date=datetime.datetime(2010, 6, 10, 0, 0), Open=1.4500000476837158),\n",
       " Row(Date=datetime.datetime(2010, 6, 9, 0, 0), Open=None)]"
      ]
     },
     "execution_count": 8,
     "metadata": {},
     "output_type": "execute_result"
    }
   ],
   "source": [
    "convert_time_stock.rdd.collect()[879:884]"
   ]
  },
  {
   "cell_type": "code",
   "execution_count": 9,
   "metadata": {},
   "outputs": [
    {
     "name": "stdout",
     "output_type": "stream",
     "text": [
      "Số dữ liệu thiếu : 358\n"
     ]
    }
   ],
   "source": [
    "print('Số dữ liệu thiếu : ' + repr(convert_time_stock.rdd.filter(lambda x : x['Open'] == None).count()))"
   ]
  },
  {
   "cell_type": "code",
   "execution_count": 10,
   "metadata": {},
   "outputs": [],
   "source": [
    "from pyspark.sql import Window\n",
    "from pyspark.sql.functions import last\n",
    "import sys\n",
    "\n",
    "def fillData(data) :\n",
    "    window = Window.rowsBetween(-sys.maxsize, 0)\n",
    "\n",
    "    filled_column = last(data['Open'], ignorenulls=True).over(window)\n",
    "\n",
    "    data_filled = data.withColumn('Open', filled_column)\n",
    "    \n",
    "    return data_filled"
   ]
  },
  {
   "cell_type": "code",
   "execution_count": 11,
   "metadata": {},
   "outputs": [
    {
     "data": {
      "text/plain": [
       "[Row(Date=datetime.datetime(2010, 6, 15, 0, 0), Open=1.399999976158142),\n",
       " Row(Date=datetime.datetime(2010, 6, 14, 0, 0), Open=1.399999976158142),\n",
       " Row(Date=datetime.datetime(2010, 6, 11, 0, 0), Open=1.399999976158142),\n",
       " Row(Date=datetime.datetime(2010, 6, 10, 0, 0), Open=1.4500000476837158),\n",
       " Row(Date=datetime.datetime(2010, 6, 9, 0, 0), Open=1.4500000476837158)]"
      ]
     },
     "execution_count": 11,
     "metadata": {},
     "output_type": "execute_result"
    }
   ],
   "source": [
    "filledStock = fillData(convert_time_stock)\n",
    "filledStock.rdd.collect()[879:884]"
   ]
  },
  {
   "cell_type": "code",
   "execution_count": 12,
   "metadata": {
    "scrolled": true
   },
   "outputs": [
    {
     "name": "stdout",
     "output_type": "stream",
     "text": [
      " Số dữ liệu thiếu :  0\n"
     ]
    }
   ],
   "source": [
    "print ' Số dữ liệu thiếu : ',filledStock.rdd.filter(lambda x : x['Open'] == None).count()"
   ]
  },
  {
   "cell_type": "markdown",
   "metadata": {},
   "source": [
    "### Sắp xếp dữ liệu theo Date"
   ]
  },
  {
   "cell_type": "code",
   "execution_count": 13,
   "metadata": {},
   "outputs": [],
   "source": [
    "sortedStock = filledStock.sort('Date', acsending = True)"
   ]
  },
  {
   "cell_type": "code",
   "execution_count": 14,
   "metadata": {},
   "outputs": [
    {
     "name": "stdout",
     "output_type": "stream",
     "text": [
      "+-------------------+----+\n",
      "|               Date|Open|\n",
      "+-------------------+----+\n",
      "|2000-01-03 00:00:00|2.38|\n",
      "|2000-01-04 00:00:00|2.38|\n",
      "|2000-01-05 00:00:00|2.31|\n",
      "|2000-01-06 00:00:00|2.31|\n",
      "|2000-01-07 00:00:00|2.31|\n",
      "+-------------------+----+\n",
      "only showing top 5 rows\n",
      "\n"
     ]
    }
   ],
   "source": [
    "sortedStock.show(5)"
   ]
  },
  {
   "cell_type": "markdown",
   "metadata": {},
   "source": [
    "### Đánh chỉ số cho dữ liệu"
   ]
  },
  {
   "cell_type": "code",
   "execution_count": 15,
   "metadata": {},
   "outputs": [],
   "source": [
    "header = [\"index\"] + convert_time_stock.columns\n",
    "\n",
    "def zipWithIndex(convert_time_data) :\n",
    "    dataWithIndex = convert_time_data.rdd.zipWithIndex().map(lambda x: [x[1]] + list(x[0])).toDF(header)\n",
    "    return dataWithIndex"
   ]
  },
  {
   "cell_type": "code",
   "execution_count": 16,
   "metadata": {},
   "outputs": [],
   "source": [
    "stocksWithIndex = zipWithIndex(sortedStock)"
   ]
  },
  {
   "cell_type": "code",
   "execution_count": 17,
   "metadata": {},
   "outputs": [
    {
     "name": "stdout",
     "output_type": "stream",
     "text": [
      "+-----+-------------------+-----------------+\n",
      "|index|               Date|             Open|\n",
      "+-----+-------------------+-----------------+\n",
      "|    0|2000-01-03 00:00:00|2.380000114440918|\n",
      "|    1|2000-01-04 00:00:00|2.380000114440918|\n",
      "|    2|2000-01-05 00:00:00|2.309999942779541|\n",
      "|    3|2000-01-06 00:00:00|2.309999942779541|\n",
      "|    4|2000-01-07 00:00:00|2.309999942779541|\n",
      "+-----+-------------------+-----------------+\n",
      "only showing top 5 rows\n",
      "\n"
     ]
    }
   ],
   "source": [
    "stocksWithIndex.show(5)"
   ]
  },
  {
   "cell_type": "markdown",
   "metadata": {},
   "source": [
    "### Tính toán chêch lệch giá trong vòng 2 tuần\n",
    "![title](data/image/r.png)"
   ]
  },
  {
   "cell_type": "code",
   "execution_count": 18,
   "metadata": {},
   "outputs": [],
   "source": [
    "def computeReturns(data) :\n",
    "    baseRDD = data.rdd.map(lambda x : ( x['index'], x ))\n",
    "    slideRDD = data.rdd.map(lambda x : ( x['index'] - 10, x))\n",
    "    unionRDD = baseRDD.union(slideRDD)\n",
    "    reduceRDD = unionRDD.map(lambda x: (x[0], (x[1]['Date'],x[1]['Open']))).groupByKey().mapValues(list)\n",
    "    filterReduceRDD = reduceRDD.filter(lambda x: len(x[1])==2)\n",
    "    dataReturn = filterReduceRDD.map(lambda x : (x[1][0][0], x[1][1][1] - x[1][0][1]))\n",
    "    return dataReturn\n",
    "# baseRDD = stocksWithIndex.rdd.map(lambda x : ( x['index'], x ))\n",
    "# baseRDD.collect()"
   ]
  },
  {
   "cell_type": "markdown",
   "metadata": {},
   "source": [
    "#### Gán key"
   ]
  },
  {
   "cell_type": "code",
   "execution_count": 19,
   "metadata": {
    "scrolled": true
   },
   "outputs": [
    {
     "data": {
      "text/plain": [
       "[(0,\n",
       "  Row(index=0, Date=datetime.datetime(2000, 1, 3, 0, 0), Open=2.380000114440918)),\n",
       " (1,\n",
       "  Row(index=1, Date=datetime.datetime(2000, 1, 4, 0, 0), Open=2.380000114440918)),\n",
       " (2,\n",
       "  Row(index=2, Date=datetime.datetime(2000, 1, 5, 0, 0), Open=2.309999942779541)),\n",
       " (3,\n",
       "  Row(index=3, Date=datetime.datetime(2000, 1, 6, 0, 0), Open=2.309999942779541)),\n",
       " (4,\n",
       "  Row(index=4, Date=datetime.datetime(2000, 1, 7, 0, 0), Open=2.309999942779541))]"
      ]
     },
     "execution_count": 19,
     "metadata": {},
     "output_type": "execute_result"
    }
   ],
   "source": [
    "baseRDD = stocksWithIndex.rdd.map(lambda x : ( x['index'], x ))\n",
    "baseRDD.take(5)"
   ]
  },
  {
   "cell_type": "markdown",
   "metadata": {},
   "source": [
    "#### Tạo một RDD trung gian với chỉ số key lệch 10 ( 2 tuần làm việc )"
   ]
  },
  {
   "cell_type": "code",
   "execution_count": 20,
   "metadata": {},
   "outputs": [
    {
     "data": {
      "text/plain": [
       "[(-10,\n",
       "  Row(index=0, Date=datetime.datetime(2000, 1, 3, 0, 0), Open=2.380000114440918)),\n",
       " (-9,\n",
       "  Row(index=1, Date=datetime.datetime(2000, 1, 4, 0, 0), Open=2.380000114440918)),\n",
       " (-8,\n",
       "  Row(index=2, Date=datetime.datetime(2000, 1, 5, 0, 0), Open=2.309999942779541)),\n",
       " (-7,\n",
       "  Row(index=3, Date=datetime.datetime(2000, 1, 6, 0, 0), Open=2.309999942779541)),\n",
       " (-6,\n",
       "  Row(index=4, Date=datetime.datetime(2000, 1, 7, 0, 0), Open=2.309999942779541))]"
      ]
     },
     "execution_count": 20,
     "metadata": {},
     "output_type": "execute_result"
    }
   ],
   "source": [
    "slideRDD = stocksWithIndex.rdd.map(lambda x : ( x['index'] - 10, x))\n",
    "slideRDD.take(5)"
   ]
  },
  {
   "cell_type": "markdown",
   "metadata": {},
   "source": [
    "#### Hợp hai RDD\n",
    "Hai RDD chứa dữ liệu của bảng gốc và bảng trung gian được gộp lại để tiến hành ghép theo key(ngày hiện tại-ngày của 2 tuần sau)"
   ]
  },
  {
   "cell_type": "code",
   "execution_count": 21,
   "metadata": {
    "scrolled": true
   },
   "outputs": [
    {
     "data": {
      "text/plain": [
       "7012"
      ]
     },
     "execution_count": 21,
     "metadata": {},
     "output_type": "execute_result"
    }
   ],
   "source": [
    "unionRDD = baseRDD.union(slideRDD)\n",
    "unionRDD.count()"
   ]
  },
  {
   "cell_type": "markdown",
   "metadata": {},
   "source": [
    "#### Nhóm các phần tử theo key"
   ]
  },
  {
   "cell_type": "code",
   "execution_count": 22,
   "metadata": {},
   "outputs": [
    {
     "data": {
      "text/plain": [
       "[(0,\n",
       "  [(datetime.datetime(2000, 1, 3, 0, 0), 2.380000114440918),\n",
       "   (datetime.datetime(2000, 1, 18, 0, 0), 2.440000057220459)]),\n",
       " (2,\n",
       "  [(datetime.datetime(2000, 1, 5, 0, 0), 2.309999942779541),\n",
       "   (datetime.datetime(2000, 1, 20, 0, 0), 2.5)]),\n",
       " (4,\n",
       "  [(datetime.datetime(2000, 1, 7, 0, 0), 2.309999942779541),\n",
       "   (datetime.datetime(2000, 1, 24, 0, 0), 2.380000114440918)]),\n",
       " (6,\n",
       "  [(datetime.datetime(2000, 1, 11, 0, 0), 2.309999942779541),\n",
       "   (datetime.datetime(2000, 1, 26, 0, 0), 2.809999942779541)]),\n",
       " (8,\n",
       "  [(datetime.datetime(2000, 1, 13, 0, 0), 2.440000057220459),\n",
       "   (datetime.datetime(2000, 1, 28, 0, 0), 2.559999942779541)])]"
      ]
     },
     "execution_count": 22,
     "metadata": {},
     "output_type": "execute_result"
    }
   ],
   "source": [
    "reduceRDD = unionRDD.map(lambda x: (x[0], (x[1]['Date'],x[1]['Open']))).groupByKey().mapValues(list)\n",
    "reduceRDD.take(5)"
   ]
  },
  {
   "cell_type": "code",
   "execution_count": 23,
   "metadata": {},
   "outputs": [
    {
     "data": {
      "text/plain": [
       "3516"
      ]
     },
     "execution_count": 23,
     "metadata": {},
     "output_type": "execute_result"
    }
   ],
   "source": [
    "reduceRDD.count()"
   ]
  },
  {
   "cell_type": "markdown",
   "metadata": {},
   "source": [
    "#### Loại 10 phần tử đầu của RDD gốc và 10 phần tử cuối của RDD trung gian"
   ]
  },
  {
   "cell_type": "code",
   "execution_count": 24,
   "metadata": {},
   "outputs": [
    {
     "data": {
      "text/plain": [
       "[(0,\n",
       "  [(datetime.datetime(2000, 1, 3, 0, 0), 2.380000114440918),\n",
       "   (datetime.datetime(2000, 1, 18, 0, 0), 2.440000057220459)]),\n",
       " (2,\n",
       "  [(datetime.datetime(2000, 1, 5, 0, 0), 2.309999942779541),\n",
       "   (datetime.datetime(2000, 1, 20, 0, 0), 2.5)]),\n",
       " (4,\n",
       "  [(datetime.datetime(2000, 1, 7, 0, 0), 2.309999942779541),\n",
       "   (datetime.datetime(2000, 1, 24, 0, 0), 2.380000114440918)]),\n",
       " (6,\n",
       "  [(datetime.datetime(2000, 1, 11, 0, 0), 2.309999942779541),\n",
       "   (datetime.datetime(2000, 1, 26, 0, 0), 2.809999942779541)]),\n",
       " (8,\n",
       "  [(datetime.datetime(2000, 1, 13, 0, 0), 2.440000057220459),\n",
       "   (datetime.datetime(2000, 1, 28, 0, 0), 2.559999942779541)])]"
      ]
     },
     "execution_count": 24,
     "metadata": {},
     "output_type": "execute_result"
    }
   ],
   "source": [
    "filterReduceRDD = reduceRDD.filter(lambda x: len(x[1])==2)\n",
    "filterReduceRDD.take(5)"
   ]
  },
  {
   "cell_type": "code",
   "execution_count": 25,
   "metadata": {
    "scrolled": true
   },
   "outputs": [
    {
     "data": {
      "text/plain": [
       "3496"
      ]
     },
     "execution_count": 25,
     "metadata": {},
     "output_type": "execute_result"
    }
   ],
   "source": [
    "filterReduceRDD.count()"
   ]
  },
  {
   "cell_type": "markdown",
   "metadata": {},
   "source": [
    "#### Tính return"
   ]
  },
  {
   "cell_type": "code",
   "execution_count": 26,
   "metadata": {},
   "outputs": [
    {
     "data": {
      "text/plain": [
       "[(datetime.datetime(2000, 1, 3, 0, 0), 0.059999942779541016),\n",
       " (datetime.datetime(2000, 1, 5, 0, 0), 0.19000005722045898),\n",
       " (datetime.datetime(2000, 1, 7, 0, 0), 0.07000017166137695),\n",
       " (datetime.datetime(2000, 1, 11, 0, 0), 0.5),\n",
       " (datetime.datetime(2000, 1, 13, 0, 0), 0.11999988555908203)]"
      ]
     },
     "execution_count": 26,
     "metadata": {},
     "output_type": "execute_result"
    }
   ],
   "source": [
    "stocksReturn = filterReduceRDD.map(lambda x : (x[1][0][0], x[1][1][1] - x[1][0][1]))\n",
    "stocksReturn.take(5)"
   ]
  },
  {
   "cell_type": "markdown",
   "metadata": {},
   "source": [
    "#### Chuyển thành dataframe"
   ]
  },
  {
   "cell_type": "code",
   "execution_count": 27,
   "metadata": {
    "scrolled": true
   },
   "outputs": [],
   "source": [
    "df_stocksReturn = stocksReturn.toDF(['Date','Open']).sort('Date')"
   ]
  },
  {
   "cell_type": "code",
   "execution_count": 28,
   "metadata": {},
   "outputs": [
    {
     "name": "stdout",
     "output_type": "stream",
     "text": [
      "+-------------------+--------------------+\n",
      "|               Date|                Open|\n",
      "+-------------------+--------------------+\n",
      "|2000-01-03 00:00:00|0.059999942779541016|\n",
      "|2000-01-04 00:00:00| 0.06999993324279785|\n",
      "|2000-01-05 00:00:00| 0.19000005722045898|\n",
      "|2000-01-06 00:00:00| 0.13000011444091797|\n",
      "|2000-01-07 00:00:00| 0.07000017166137695|\n",
      "+-------------------+--------------------+\n",
      "only showing top 5 rows\n",
      "\n"
     ]
    }
   ],
   "source": [
    "df_stocksReturn.show(5)"
   ]
  },
  {
   "cell_type": "code",
   "execution_count": 29,
   "metadata": {},
   "outputs": [
    {
     "name": "stdout",
     "output_type": "stream",
     "text": [
      "+-------------------+----+\n",
      "|               Date|Open|\n",
      "+-------------------+----+\n",
      "|2000-01-03 00:00:00|2.38|\n",
      "|2000-01-04 00:00:00|2.38|\n",
      "|2000-01-05 00:00:00|2.31|\n",
      "|2000-01-06 00:00:00|2.31|\n",
      "|2000-01-07 00:00:00|2.31|\n",
      "+-------------------+----+\n",
      "only showing top 5 rows\n",
      "\n"
     ]
    }
   ],
   "source": [
    "sortedStock.show(5) # giá trị gốc"
   ]
  },
  {
   "cell_type": "markdown",
   "metadata": {},
   "source": [
    "<mark>Note:</mark>RDD được cache vào bộ nhớ để sử dụng nhiều lần sau này, giảm thời gian xử lý."
   ]
  },
  {
   "cell_type": "code",
   "execution_count": 30,
   "metadata": {},
   "outputs": [
    {
     "data": {
      "text/plain": [
       "DataFrame[Date: timestamp, Open: double]"
      ]
     },
     "execution_count": 30,
     "metadata": {},
     "output_type": "execute_result"
    }
   ],
   "source": [
    "df_stocksReturn.cache()"
   ]
  },
  {
   "cell_type": "markdown",
   "metadata": {},
   "source": [
    "## Chuẩn bị dữ liệu cho Factors"
   ]
  },
  {
   "cell_type": "markdown",
   "metadata": {},
   "source": [
    "### Đọc dữ liệu "
   ]
  },
  {
   "cell_type": "code",
   "execution_count": 31,
   "metadata": {},
   "outputs": [],
   "source": [
    "factor_names = ['IXIC.csv', 'GSPC.csv', 'crudeoil.csv','us30yeartreasurybonds.csv']\n",
    "\n",
    "factors = [readData(data_dir+'factors/' + factor_name) for factor_name in factor_names]"
   ]
  },
  {
   "cell_type": "code",
   "execution_count": 32,
   "metadata": {},
   "outputs": [
    {
     "name": "stdout",
     "output_type": "stream",
     "text": [
      "root\n",
      " |-- Date: timestamp (nullable = true)\n",
      " |-- Open: double (nullable = true)\n",
      " |-- High: double (nullable = true)\n",
      " |-- Low: double (nullable = true)\n",
      " |-- Close: double (nullable = true)\n",
      " |-- Adj Close: double (nullable = true)\n",
      " |-- Volume: long (nullable = true)\n",
      "\n",
      "+-------------------+-----------+-----------+-----------+-----------+-----------+----------+\n",
      "|               Date|       Open|       High|        Low|      Close|  Adj Close|    Volume|\n",
      "+-------------------+-----------+-----------+-----------+-----------+-----------+----------+\n",
      "|2000-01-03 00:00:00|4186.189941|4192.189941|3989.709961|4131.149902|4131.149902|1510070000|\n",
      "|2000-01-04 00:00:00|     4020.0|    4073.25| 3898.22998|3901.689941|3901.689941|1511840000|\n",
      "|2000-01-05 00:00:00|3854.350098|3924.209961|3734.870117|3877.540039|3877.540039|1735670000|\n",
      "|2000-01-06 00:00:00|3834.439941| 3868.76001|3715.620117|3727.129883|3727.129883|1598320000|\n",
      "|2000-01-07 00:00:00|3711.090088|3882.669922|3711.090088|3882.620117|3882.620117|1634930000|\n",
      "+-------------------+-----------+-----------+-----------+-----------+-----------+----------+\n",
      "only showing top 5 rows\n",
      "\n"
     ]
    }
   ],
   "source": [
    "factors[0].printSchema()\n",
    "factors[0].show(5)"
   ]
  },
  {
   "cell_type": "code",
   "execution_count": 33,
   "metadata": {},
   "outputs": [
    {
     "name": "stdout",
     "output_type": "stream",
     "text": [
      "Số điểm dữ liệu: 3520\n"
     ]
    }
   ],
   "source": [
    "print 'Số điểm dữ liệu: ' + repr(factors[0].count())"
   ]
  },
  {
   "cell_type": "code",
   "execution_count": 34,
   "metadata": {},
   "outputs": [
    {
     "name": "stdout",
     "output_type": "stream",
     "text": [
      "root\n",
      " |-- Date: timestamp (nullable = true)\n",
      " |-- Open: double (nullable = true)\n",
      " |-- High: double (nullable = true)\n",
      " |-- Low: double (nullable = true)\n",
      " |-- Close: double (nullable = true)\n",
      " |-- Adj Close: double (nullable = true)\n",
      " |-- Volume: long (nullable = true)\n",
      "\n",
      "+-------------------+-----------+-----------+-----------+-----------+-----------+----------+\n",
      "|               Date|       Open|       High|        Low|      Close|  Adj Close|    Volume|\n",
      "+-------------------+-----------+-----------+-----------+-----------+-----------+----------+\n",
      "|2000-01-03 00:00:00|    1469.25|     1478.0|1438.359985|1455.219971|1455.219971| 931800000|\n",
      "|2000-01-04 00:00:00|1455.219971|1455.219971|1397.430054|1399.420044|1399.420044|1009000000|\n",
      "|2000-01-05 00:00:00|1399.420044| 1413.27002|1377.680054|1402.109985|1402.109985|1085500000|\n",
      "|2000-01-06 00:00:00|1402.109985|1411.900024|1392.099976|1403.449951|1403.449951|1092300000|\n",
      "|2000-01-07 00:00:00|1403.449951|1441.469971| 1400.72998|1441.469971|1441.469971|1225200000|\n",
      "+-------------------+-----------+-----------+-----------+-----------+-----------+----------+\n",
      "only showing top 5 rows\n",
      "\n"
     ]
    }
   ],
   "source": [
    "factors[1].printSchema()\n",
    "factors[1].show(5)"
   ]
  },
  {
   "cell_type": "code",
   "execution_count": 35,
   "metadata": {},
   "outputs": [
    {
     "name": "stdout",
     "output_type": "stream",
     "text": [
      "Số điểm dữ liệu:  3520\n"
     ]
    }
   ],
   "source": [
    "print 'Số điểm dữ liệu: ', factors[1].count()"
   ]
  },
  {
   "cell_type": "code",
   "execution_count": 36,
   "metadata": {},
   "outputs": [
    {
     "name": "stdout",
     "output_type": "stream",
     "text": [
      "root\n",
      " |-- Date: string (nullable = true)\n",
      " |-- Price: double (nullable = true)\n",
      " |-- Open: double (nullable = true)\n",
      " |-- High: double (nullable = true)\n",
      " |-- Low: double (nullable = true)\n",
      " |-- Vol.: string (nullable = true)\n",
      " |-- Change %: string (nullable = true)\n",
      "\n",
      "+-----------+------+------+------+-----+-------+--------+\n",
      "|       Date| Price|  Open|  High|  Low|   Vol.|Change %|\n",
      "+-----------+------+------+------+-----+-------+--------+\n",
      "|Dec 31-2013| 98.42| 99.25| 99.39|98.15|113.91K|  -0.88%|\n",
      "|Dec 30-2013| 99.29|100.15|100.42|99.13|118.36K|  -1.03%|\n",
      "|Dec 27-2013|100.32| 99.63|100.75|99.37|127.20K|   0.77%|\n",
      "|Dec 26-2013| 99.55|  99.2|  99.7|99.05| 65.67K|   0.33%|\n",
      "|Dec 24-2013| 99.22| 98.62|  99.3|98.53| 51.88K|   0.31%|\n",
      "+-----------+------+------+------+-----+-------+--------+\n",
      "only showing top 5 rows\n",
      "\n"
     ]
    }
   ],
   "source": [
    "factors[2].printSchema()\n",
    "factors[2].show(5)"
   ]
  },
  {
   "cell_type": "code",
   "execution_count": 37,
   "metadata": {},
   "outputs": [
    {
     "name": "stdout",
     "output_type": "stream",
     "text": [
      "Số điểm dữ liệu:  3514\n"
     ]
    }
   ],
   "source": [
    "print 'Số điểm dữ liệu: ', factors[2].count()"
   ]
  },
  {
   "cell_type": "code",
   "execution_count": 38,
   "metadata": {},
   "outputs": [
    {
     "name": "stdout",
     "output_type": "stream",
     "text": [
      "root\n",
      " |-- Date: string (nullable = true)\n",
      " |-- Price: double (nullable = true)\n",
      " |-- Open: double (nullable = true)\n",
      " |-- High: double (nullable = true)\n",
      " |-- Low: double (nullable = true)\n",
      " |-- Change %: string (nullable = true)\n",
      "\n",
      "+-----------+-----+-----+-----+-----+--------+\n",
      "|       Date|Price| Open| High|  Low|Change %|\n",
      "+-----------+-----+-----+-----+-----+--------+\n",
      "|Dec 31-2013|3.964|3.908|3.974|3.898|   1.56%|\n",
      "|Dec 30-2013|3.903|4.001|4.001|3.895|  -2.52%|\n",
      "|Dec 29-2013|4.004| 3.94|4.004| 3.94|   1.62%|\n",
      "|Dec 27-2013| 3.94|3.925| 3.95|3.908|   0.36%|\n",
      "|Dec 26-2013|3.926|3.912|3.931| 3.89|   0.40%|\n",
      "+-----------+-----+-----+-----+-----+--------+\n",
      "only showing top 5 rows\n",
      "\n"
     ]
    }
   ],
   "source": [
    "factors[3].printSchema()\n",
    "factors[3].show(5)"
   ]
  },
  {
   "cell_type": "code",
   "execution_count": 39,
   "metadata": {},
   "outputs": [
    {
     "name": "stdout",
     "output_type": "stream",
     "text": [
      "Số điểm dữ liệu:  3628\n"
     ]
    }
   ],
   "source": [
    "print 'Số điểm dữ liệu: ', factors[3].count()"
   ]
  },
  {
   "cell_type": "markdown",
   "metadata": {},
   "source": [
    "### Chuyển hóa dữ liệu"
   ]
  },
  {
   "cell_type": "code",
   "execution_count": 40,
   "metadata": {},
   "outputs": [],
   "source": [
    "def convertTimeFactor(factor, isConvert) :\n",
    "    factor = factor['Date','Open']\n",
    "    factor = factor.withColumn(\"Open\",factor[\"Open\"].cast('float'))\n",
    "    def toDate(cols) :\n",
    "        date = unix_timestamp(cols, 'MMM dd-yyyy')                  \n",
    "        return date\n",
    "    \n",
    "    if isConvert :\n",
    "        convert_time= factor.withColumn(\"Date\",to_timestamp(toDate(factor.Date)))\n",
    "        return convert_time\n",
    "    else :\n",
    "        return factor"
   ]
  },
  {
   "cell_type": "code",
   "execution_count": 41,
   "metadata": {},
   "outputs": [
    {
     "name": "stdout",
     "output_type": "stream",
     "text": [
      "+-------------------+------+\n",
      "|               Date|  Open|\n",
      "+-------------------+------+\n",
      "|2013-12-31 00:00:00| 99.25|\n",
      "|2013-12-30 00:00:00|100.15|\n",
      "|2013-12-27 00:00:00| 99.63|\n",
      "|2013-12-26 00:00:00|  99.2|\n",
      "|2013-12-24 00:00:00| 98.62|\n",
      "+-------------------+------+\n",
      "only showing top 5 rows\n",
      "\n",
      "root\n",
      " |-- Date: timestamp (nullable = true)\n",
      " |-- Open: float (nullable = true)\n",
      "\n"
     ]
    }
   ],
   "source": [
    "convert_time_factor = convertTimeFactor(factors[2], True)\n",
    "convert_time_factor.show(5)\n",
    "convert_time_factor.printSchema()"
   ]
  },
  {
   "cell_type": "code",
   "execution_count": 42,
   "metadata": {},
   "outputs": [],
   "source": [
    "convertTimeFactors = []\n",
    "convertTimeFactors.append(convertTimeFactor(factors[0],False))\n",
    "convertTimeFactors.append(convertTimeFactor(factors[1],False))\n",
    "convertTimeFactors.append(convertTimeFactor(factors[2],True).orderBy('Date', ascending = True))\n",
    "convertTimeFactors.append(convertTimeFactor(factors[3],True).orderBy('Date', ascending = True))"
   ]
  },
  {
   "cell_type": "code",
   "execution_count": 43,
   "metadata": {},
   "outputs": [
    {
     "name": "stdout",
     "output_type": "stream",
     "text": [
      "+-------------------+-----+\n",
      "|               Date| Open|\n",
      "+-------------------+-----+\n",
      "|2000-01-04 00:00:00| 25.2|\n",
      "|2000-01-05 00:00:00| 25.5|\n",
      "|2000-01-06 00:00:00| 24.8|\n",
      "|2000-01-07 00:00:00|24.65|\n",
      "|2000-01-10 00:00:00|24.22|\n",
      "+-------------------+-----+\n",
      "only showing top 5 rows\n",
      "\n",
      "root\n",
      " |-- Date: timestamp (nullable = true)\n",
      " |-- Open: float (nullable = true)\n",
      "\n"
     ]
    }
   ],
   "source": [
    "convertTimeFactors[2].show(5)\n",
    "convertTimeFactors[2].printSchema()"
   ]
  },
  {
   "cell_type": "markdown",
   "metadata": {},
   "source": [
    "### Điền dữ liệu bị thiếu "
   ]
  },
  {
   "cell_type": "code",
   "execution_count": 44,
   "metadata": {},
   "outputs": [
    {
     "data": {
      "text/plain": [
       "0"
      ]
     },
     "execution_count": 44,
     "metadata": {},
     "output_type": "execute_result"
    }
   ],
   "source": [
    "convertTimeFactors[0].rdd.filter(lambda x : x['Open'] == None).count()"
   ]
  },
  {
   "cell_type": "code",
   "execution_count": 45,
   "metadata": {},
   "outputs": [],
   "source": [
    "# stocka.rdd.filter(lambda x : not isinstance(x[1], float)).collect()\n",
    "# factors = [fillData(factor) for factor in factors]"
   ]
  },
  {
   "cell_type": "markdown",
   "metadata": {},
   "source": [
    "### Đánh chỉ số cho dữ liệu "
   ]
  },
  {
   "cell_type": "code",
   "execution_count": 46,
   "metadata": {},
   "outputs": [],
   "source": [
    "factorsZipIndex = [zipWithIndex(factor) for factor in convertTimeFactors]"
   ]
  },
  {
   "cell_type": "code",
   "execution_count": 47,
   "metadata": {},
   "outputs": [
    {
     "name": "stdout",
     "output_type": "stream",
     "text": [
      "+-----+-------------------+------------------+\n",
      "|index|               Date|              Open|\n",
      "+-----+-------------------+------------------+\n",
      "|    0|2000-01-03 00:00:00| 6.620999813079834|\n",
      "|    1|2000-01-04 00:00:00|6.5370001792907715|\n",
      "|    2|2000-01-05 00:00:00| 6.620999813079834|\n",
      "|    3|2000-01-06 00:00:00| 6.554999828338623|\n",
      "|    4|2000-01-07 00:00:00| 6.539999961853027|\n",
      "+-----+-------------------+------------------+\n",
      "only showing top 5 rows\n",
      "\n"
     ]
    }
   ],
   "source": [
    "factorsZipIndex[3].show(5)"
   ]
  },
  {
   "cell_type": "markdown",
   "metadata": {},
   "source": [
    "### Tính chênh lệch "
   ]
  },
  {
   "cell_type": "code",
   "execution_count": 48,
   "metadata": {},
   "outputs": [],
   "source": [
    "factorsReturn = [computeReturns(factor).toDF(['Date','Open_'+str(i)]) for i,factor in enumerate(factorsZipIndex)]"
   ]
  },
  {
   "cell_type": "code",
   "execution_count": 49,
   "metadata": {},
   "outputs": [],
   "source": [
    "sortedFactorsReturn = []\n",
    "sortedFactorsReturn.append(factorsReturn[0])\n",
    "sortedFactorsReturn.append(factorsReturn[1])\n",
    "sortedFactorsReturn.append(factorsReturn[2].orderBy('Date', ascending = True))\n",
    "sortedFactorsReturn.append(factorsReturn[3].orderBy('Date', ascending = True))"
   ]
  },
  {
   "cell_type": "code",
   "execution_count": 50,
   "metadata": {},
   "outputs": [
    {
     "name": "stdout",
     "output_type": "stream",
     "text": [
      "+-------------------+----------------+\n",
      "|               Date|          Open_0|\n",
      "+-------------------+----------------+\n",
      "|2000-01-03 00:00:00| -126.5400390625|\n",
      "|2000-01-05 00:00:00|  350.7099609375|\n",
      "|2000-01-07 00:00:00|579.289794921875|\n",
      "|2000-01-11 00:00:00| 143.34033203125|\n",
      "|2000-01-13 00:00:00|            95.0|\n",
      "|2000-01-18 00:00:00|-98.579833984375|\n",
      "|2000-01-20 00:00:00|    -70.41015625|\n",
      "|2000-01-24 00:00:00| -16.35009765625|\n",
      "|2000-01-26 00:00:00|  285.4599609375|\n",
      "|2000-01-28 00:00:00|479.190185546875|\n",
      "|2000-02-01 00:00:00|454.449951171875|\n",
      "|2000-02-03 00:00:00| 348.35986328125|\n",
      "|2000-02-07 00:00:00| 158.80029296875|\n",
      "|2000-02-09 00:00:00|  123.7099609375|\n",
      "|2000-02-11 00:00:00|  85.73974609375|\n",
      "|2000-02-15 00:00:00|  317.2998046875|\n",
      "|2000-02-17 00:00:00|           363.0|\n",
      "|2000-02-22 00:00:00| 559.14013671875|\n",
      "|2000-02-24 00:00:00| 329.18994140625|\n",
      "|2000-02-28 00:00:00|  303.9599609375|\n",
      "+-------------------+----------------+\n",
      "only showing top 20 rows\n",
      "\n",
      "+-------------------+-----------------+\n",
      "|               Date|           Open_1|\n",
      "+-------------------+-----------------+\n",
      "|2000-01-03 00:00:00| -4.0999755859375|\n",
      "|2000-01-05 00:00:00|   56.47998046875|\n",
      "|2000-01-07 00:00:00| 37.9100341796875|\n",
      "|2000-01-11 00:00:00|-47.5699462890625|\n",
      "|2000-01-13 00:00:00|  -33.68994140625|\n",
      "|2000-01-18 00:00:00|-70.6900634765625|\n",
      "|2000-01-20 00:00:00| -46.780029296875|\n",
      "|2000-01-24 00:00:00| -16.989990234375|\n",
      "|2000-01-26 00:00:00|   31.68994140625|\n",
      "|2000-01-28 00:00:00| 18.2698974609375|\n",
      "|2000-02-01 00:00:00|   -4.52001953125|\n",
      "|2000-02-03 00:00:00| -21.449951171875|\n",
      "|2000-02-07 00:00:00| -78.280029296875|\n",
      "|2000-02-09 00:00:00| -81.030029296875|\n",
      "|2000-02-11 00:00:00| -83.469970703125|\n",
      "|2000-02-15 00:00:00|-23.5198974609375|\n",
      "|2000-02-17 00:00:00| -5.9100341796875|\n",
      "|2000-02-22 00:00:00| 45.1900634765625|\n",
      "|2000-02-24 00:00:00|   6.010009765625|\n",
      "|2000-02-28 00:00:00|    61.7099609375|\n",
      "+-------------------+-----------------+\n",
      "only showing top 20 rows\n",
      "\n",
      "+-------------------+--------------------+\n",
      "|               Date|              Open_2|\n",
      "+-------------------+--------------------+\n",
      "|2000-01-04 00:00:00|  3.5999984741210938|\n",
      "|2000-01-05 00:00:00|  3.8999996185302734|\n",
      "|2000-01-06 00:00:00|  3.0500011444091797|\n",
      "|2000-01-07 00:00:00|  3.5799999237060547|\n",
      "|2000-01-10 00:00:00|  3.5600013732910156|\n",
      "|2000-01-11 00:00:00|  3.5800018310546875|\n",
      "|2000-01-12 00:00:00|  2.0500011444091797|\n",
      "|2000-01-13 00:00:00|  0.9399986267089844|\n",
      "|2000-01-14 00:00:00|  0.3000011444091797|\n",
      "|2000-01-18 00:00:00|-0.43000030517578125|\n",
      "|2000-01-19 00:00:00| -0.5799999237060547|\n",
      "|2000-01-20 00:00:00| -1.8400001525878906|\n",
      "|2000-01-21 00:00:00| 0.31999969482421875|\n",
      "|2000-01-24 00:00:00|  0.4799995422363281|\n",
      "|2000-01-25 00:00:00|  0.6599998474121094|\n",
      "|2000-01-26 00:00:00|-0.29000091552734375|\n",
      "|2000-01-27 00:00:00|  0.8199996948242188|\n",
      "|2000-01-28 00:00:00|   2.200000762939453|\n",
      "|2000-01-31 00:00:00|  2.3400001525878906|\n",
      "|2000-02-01 00:00:00|  2.6800003051757812|\n",
      "+-------------------+--------------------+\n",
      "only showing top 20 rows\n",
      "\n",
      "+-------------------+--------------------+\n",
      "|               Date|              Open_3|\n",
      "+-------------------+--------------------+\n",
      "|2000-01-03 00:00:00| 0.12900018692016602|\n",
      "|2000-01-04 00:00:00| 0.18199968338012695|\n",
      "|2000-01-05 00:00:00| 0.11899995803833008|\n",
      "|2000-01-06 00:00:00| 0.14600038528442383|\n",
      "|2000-01-07 00:00:00| 0.10900020599365234|\n",
      "|2000-01-10 00:00:00|0.053999900817871094|\n",
      "|2000-01-11 00:00:00| -0.0989999771118164|\n",
      "|2000-01-12 00:00:00|-0.19300031661987305|\n",
      "|2000-01-13 00:00:00|-0.20099973678588867|\n",
      "|2000-01-14 00:00:00|-0.20200014114379883|\n",
      "|2000-01-18 00:00:00| -0.3210000991821289|\n",
      "|2000-01-19 00:00:00| -0.4330000877380371|\n",
      "|2000-01-20 00:00:00| -0.6039996147155762|\n",
      "|2000-01-21 00:00:00| -0.4270000457763672|\n",
      "|2000-01-24 00:00:00| -0.3080000877380371|\n",
      "|2000-01-25 00:00:00| -0.4070000648498535|\n",
      "|2000-01-26 00:00:00|-0.25799989700317383|\n",
      "|2000-01-27 00:00:00|-0.09599971771240234|\n",
      "|2000-01-28 00:00:00| -0.1830000877380371|\n",
      "|2000-01-31 00:00:00|-0.26200008392333984|\n",
      "+-------------------+--------------------+\n",
      "only showing top 20 rows\n",
      "\n"
     ]
    }
   ],
   "source": [
    "for fac in sortedFactorsReturn:\n",
    "    fac.show()"
   ]
  },
  {
   "cell_type": "code",
   "execution_count": 51,
   "metadata": {},
   "outputs": [
    {
     "name": "stdout",
     "output_type": "stream",
     "text": [
      "root\n",
      " |-- Date: timestamp (nullable = true)\n",
      " |-- Open_1: double (nullable = true)\n",
      "\n"
     ]
    }
   ],
   "source": [
    "sortedFactorsReturn[1].printSchema()"
   ]
  },
  {
   "cell_type": "markdown",
   "metadata": {},
   "source": [
    "### Dùng phép join với 4 cột chứa dữ liệu của 4 factor để đồng nhất ngày giữa các factor."
   ]
  },
  {
   "cell_type": "code",
   "execution_count": 52,
   "metadata": {},
   "outputs": [],
   "source": [
    "def joinFactors(factors) :\n",
    "    f =factors[0]\n",
    "    for factor in factors[1:] :\n",
    "        f = f.join(factor, 'Date', 'inner')\n",
    "    return f\n",
    "\n",
    "# header = \n",
    "joinFactorsReturn = joinFactors(factorsReturn)"
   ]
  },
  {
   "cell_type": "code",
   "execution_count": 53,
   "metadata": {},
   "outputs": [
    {
     "data": {
      "text/plain": [
       "DataFrame[Date: timestamp, Open_0: double, Open_1: double, Open_2: double, Open_3: double]"
      ]
     },
     "execution_count": 53,
     "metadata": {},
     "output_type": "execute_result"
    }
   ],
   "source": [
    "joinFactorsReturn.cache()"
   ]
  },
  {
   "cell_type": "code",
   "execution_count": 54,
   "metadata": {},
   "outputs": [
    {
     "name": "stdout",
     "output_type": "stream",
     "text": [
      "+-------------------+-----------------+------------------+-------------------+--------------------+\n",
      "|               Date|           Open_0|            Open_1|             Open_2|              Open_3|\n",
      "+-------------------+-----------------+------------------+-------------------+--------------------+\n",
      "|2000-06-27 00:00:00| 120.190185546875|  25.5699462890625| -1.260000228881836|-0.05299997329711914|\n",
      "|2000-07-06 00:00:00| 233.719970703125|    35.72998046875| 0.5399990081787109|-0.09800004959106445|\n",
      "|2001-01-03 00:00:00| 442.179931640625|  46.6199951171875| 2.3800010681152344|-0.01799964904785...|\n",
      "|2001-03-07 00:00:00|-378.489990234375|-111.1800537109375|-2.1799983978271484|-0.02899980545043...|\n",
      "|2001-04-26 00:00:00|  109.47998046875|     26.7900390625| 0.9300003051757812| 0.05200004577636719|\n",
      "+-------------------+-----------------+------------------+-------------------+--------------------+\n",
      "only showing top 5 rows\n",
      "\n"
     ]
    }
   ],
   "source": [
    "joinFactorsReturn.show(5)"
   ]
  },
  {
   "cell_type": "code",
   "execution_count": 55,
   "metadata": {},
   "outputs": [
    {
     "name": "stdout",
     "output_type": "stream",
     "text": [
      "root\n",
      " |-- Date: timestamp (nullable = true)\n",
      " |-- Open_0: double (nullable = true)\n",
      " |-- Open_1: double (nullable = true)\n",
      " |-- Open_2: double (nullable = true)\n",
      " |-- Open_3: double (nullable = true)\n",
      "\n"
     ]
    }
   ],
   "source": [
    "joinFactorsReturn.printSchema()"
   ]
  },
  {
   "cell_type": "code",
   "execution_count": 56,
   "metadata": {},
   "outputs": [],
   "source": [
    "sortedJoinFactorsReturn = joinFactorsReturn.orderBy('Date')"
   ]
  },
  {
   "cell_type": "code",
   "execution_count": 57,
   "metadata": {},
   "outputs": [
    {
     "name": "stdout",
     "output_type": "stream",
     "text": [
      "+-------------------+----------------+----------------+------------------+--------------------+\n",
      "|               Date|          Open_0|          Open_1|            Open_2|              Open_3|\n",
      "+-------------------+----------------+----------------+------------------+--------------------+\n",
      "|2000-01-04 00:00:00|  96.27001953125|-0.0799560546875|3.5999984741210938| 0.18199968338012695|\n",
      "|2000-01-05 00:00:00|  350.7099609375|  56.47998046875|3.8999996185302734| 0.11899995803833008|\n",
      "|2000-01-06 00:00:00|  402.2099609375|   43.4599609375|3.0500011444091797| 0.14600038528442383|\n",
      "|2000-01-07 00:00:00|579.289794921875|37.9100341796875|3.5799999237060547| 0.10900020599365234|\n",
      "|2000-01-10 00:00:00| 122.52001953125| -39.93994140625|3.5600013732910156|0.053999900817871094|\n",
      "+-------------------+----------------+----------------+------------------+--------------------+\n",
      "only showing top 5 rows\n",
      "\n"
     ]
    }
   ],
   "source": [
    "sortedJoinFactorsReturn.show(5)"
   ]
  },
  {
   "cell_type": "code",
   "execution_count": 58,
   "metadata": {},
   "outputs": [
    {
     "name": "stdout",
     "output_type": "stream",
     "text": [
      "root\n",
      " |-- Date: timestamp (nullable = true)\n",
      " |-- Open_0: double (nullable = true)\n",
      " |-- Open_1: double (nullable = true)\n",
      " |-- Open_2: double (nullable = true)\n",
      " |-- Open_3: double (nullable = true)\n",
      "\n"
     ]
    }
   ],
   "source": [
    "sortedJoinFactorsReturn.printSchema()"
   ]
  },
  {
   "cell_type": "code",
   "execution_count": 59,
   "metadata": {},
   "outputs": [
    {
     "name": "stdout",
     "output_type": "stream",
     "text": [
      "Số lượng dữ liệu sau khi đồng nhất ngày: 3479\n"
     ]
    }
   ],
   "source": [
    "print 'Số lượng dữ liệu sau khi đồng nhất ngày: ' + repr(sortedJoinFactorsReturn.count())"
   ]
  },
  {
   "cell_type": "code",
   "execution_count": 60,
   "metadata": {},
   "outputs": [],
   "source": [
    "from pyspark.ml.feature import VectorAssembler\n",
    "from pyspark.ml import Pipeline, Transformer\n",
    "from pyspark.sql.functions import udf\n",
    "from pyspark.sql.types import FloatType\n",
    "import math\n",
    "\n",
    "# hàm udf hỗ trợ việc định nghĩa ra các hàm xử lý cho cột được chọn của bảng\n",
    "# tính bình phương cho giá trị, dấu lấy theo dấu của giá trị gốc\n",
    "udf_featurize_sqr = udf(lambda x: math.copysign(1, x)*(x)**2, FloatType())\n",
    "\n",
    "# Tính căn bậc 2 cho giá trị, dấu lấy theo dấu của giá trị gốc.\n",
    "udf_featurize_sqrt = udf(lambda x: math.copysign(1, x)* math.sqrt(abs(x)), FloatType())\n",
    "\n",
    "# CUSTOM TRANSFORMER ----------------------------------------------------------------\n",
    "\n",
    "class CreateNewFeature(Transformer):\n",
    "    \"\"\"\n",
    "    Lớp CreateNewFeature được kế thừa từ lớp transformer nhằm mục đích thực hiện tính để lấy feature mới \n",
    "    từ các feature gốc(lấy từ các factors). Các phép tính bao gồm lấy bình phương giá trị hoặc căn bậc 2,\n",
    "    dấu lấy theo dấu của giá trị gốc.\n",
    "    \n",
    "    \"\"\"\n",
    "\n",
    "    def __init__(self, inputCol, outputCol, opt='square'):\n",
    "        super(CreateNewFeature, self).__init__()\n",
    "        self.inputCol = inputCol\n",
    "        self.outputCol = outputCol\n",
    "        self.opt = opt\n",
    "\n",
    "    def _transform(self, df):\n",
    "\n",
    "        if self.opt == 'square':\n",
    "            return df.withColumn(self.outputCol, udf_featurize_sqr(self.inputCol))\n",
    "        else: \n",
    "            return df.withColumn(self.outputCol, udf_featurize_sqrt(self.inputCol))\n",
    "            \n",
    "\n",
    "\n",
    "all_stages = [CreateNewFeature(inputCol='Open_'+str(i), outputCol='F_sqr_'+str(i), opt='square') for i in range(4)]+\\\n",
    "            [CreateNewFeature(inputCol='Open_'+str(i), outputCol='F_sqrt_'+str(i), opt='square_root') for i in range(4)]\n",
    "\n",
    "# Tạo một pipline để xử lý liên tiếp với các cột để tạo ra giá trị mới\n",
    "df_with_featurized = Pipeline(stages=all_stages).fit(sortedJoinFactorsReturn).transform(sortedJoinFactorsReturn)\n",
    "\n"
   ]
  },
  {
   "cell_type": "code",
   "execution_count": 61,
   "metadata": {},
   "outputs": [
    {
     "name": "stdout",
     "output_type": "stream",
     "text": [
      "root\n",
      " |-- Date: timestamp (nullable = true)\n",
      " |-- Open_0: double (nullable = true)\n",
      " |-- Open_1: double (nullable = true)\n",
      " |-- Open_2: double (nullable = true)\n",
      " |-- Open_3: double (nullable = true)\n",
      " |-- F_sqr_0: float (nullable = true)\n",
      " |-- F_sqr_1: float (nullable = true)\n",
      " |-- F_sqr_2: float (nullable = true)\n",
      " |-- F_sqr_3: float (nullable = true)\n",
      " |-- F_sqrt_0: float (nullable = true)\n",
      " |-- F_sqrt_1: float (nullable = true)\n",
      " |-- F_sqrt_2: float (nullable = true)\n",
      " |-- F_sqrt_3: float (nullable = true)\n",
      "\n"
     ]
    }
   ],
   "source": [
    "df_with_featurized.printSchema()"
   ]
  },
  {
   "cell_type": "code",
   "execution_count": 62,
   "metadata": {},
   "outputs": [
    {
     "name": "stdout",
     "output_type": "stream",
     "text": [
      "+----------------+----------+----------+\n",
      "|          Open_0|   F_sqr_0|  F_sqrt_0|\n",
      "+----------------+----------+----------+\n",
      "|  96.27001953125|  9267.917| 9.8117285|\n",
      "|  350.7099609375| 122997.48| 18.727251|\n",
      "|  402.2099609375| 161772.86| 20.055174|\n",
      "|579.289794921875| 335576.66|  24.06844|\n",
      "| 122.52001953125| 15011.155| 11.068876|\n",
      "| 143.34033203125| 20546.451| 11.972483|\n",
      "|169.550048828125| 28747.219| 13.021138|\n",
      "|            95.0|    9025.0|  9.746795|\n",
      "| -171.8798828125|-29542.693|-13.110297|\n",
      "|-98.579833984375| -9717.983| -9.928738|\n",
      "|-57.239990234375|-3276.4165|-7.5657115|\n",
      "|    -70.41015625|-4957.5903| -8.391076|\n",
      "|             5.5|     30.25|  2.345208|\n",
      "| -16.35009765625|-267.32568| -4.043525|\n",
      "|   245.259765625|  60152.35| 15.660771|\n",
      "|  285.4599609375|  81487.39| 16.895561|\n",
      "|    269.66015625|   72716.6| 16.421331|\n",
      "|479.190185546875| 229623.23| 21.890413|\n",
      "|560.539794921875| 314204.88| 23.675722|\n",
      "|454.449951171875| 206524.77| 21.317831|\n",
      "+----------------+----------+----------+\n",
      "only showing top 20 rows\n",
      "\n"
     ]
    }
   ],
   "source": [
    "df_with_featurized['Open_0', 'F_sqr_0', 'F_sqrt_0'].show()"
   ]
  },
  {
   "cell_type": "markdown",
   "metadata": {},
   "source": [
    "### Ghép features\n",
    "Các features vừa được sinh ra cùng với các features gốc của mỗi factor sẽ được ghép lại với nhau thành một vector( merge_feature) dùng để train cho model linear regression<br>\n",
    "Ta sẽ thu được một cột mới với mỗi dòng là một vector của 9 features: 3 features gốc, 3 features cho bình phương, 3 features cho căn bậc 2"
   ]
  },
  {
   "cell_type": "code",
   "execution_count": 63,
   "metadata": {},
   "outputs": [
    {
     "name": "stdout",
     "output_type": "stream",
     "text": [
      "+-------------------+----------------+-----------------+--------------------+--------------------+--------------------+\n",
      "|               Date|          Open_0|           Open_1|              Open_2|              Open_3|       merge_feature|\n",
      "+-------------------+----------------+-----------------+--------------------+--------------------+--------------------+\n",
      "|2000-01-04 00:00:00|  96.27001953125| -0.0799560546875|  3.5999984741210938| 0.18199968338012695|[96.27001953125,-...|\n",
      "|2000-01-05 00:00:00|  350.7099609375|   56.47998046875|  3.8999996185302734| 0.11899995803833008|[350.7099609375,5...|\n",
      "|2000-01-06 00:00:00|  402.2099609375|    43.4599609375|  3.0500011444091797| 0.14600038528442383|[402.2099609375,4...|\n",
      "|2000-01-07 00:00:00|579.289794921875| 37.9100341796875|  3.5799999237060547| 0.10900020599365234|[579.289794921875...|\n",
      "|2000-01-10 00:00:00| 122.52001953125|  -39.93994140625|  3.5600013732910156|0.053999900817871094|[122.52001953125,...|\n",
      "|2000-01-11 00:00:00| 143.34033203125|-47.5699462890625|  3.5800018310546875| -0.0989999771118164|[143.34033203125,...|\n",
      "|2000-01-12 00:00:00|169.550048828125|-34.4700927734375|  2.0500011444091797|-0.19300031661987305|[169.550048828125...|\n",
      "|2000-01-13 00:00:00|            95.0|  -33.68994140625|  0.9399986267089844|-0.20099973678588867|[95.0,-33.6899414...|\n",
      "|2000-01-14 00:00:00| -171.8798828125|  -89.52001953125|  0.3000011444091797|-0.20200014114379883|[-171.8798828125,...|\n",
      "|2000-01-18 00:00:00|-98.579833984375|-70.6900634765625|-0.43000030517578125| -0.3210000991821289|[-98.579833984375...|\n",
      "|2000-01-19 00:00:00|-57.239990234375|-45.8599853515625| -0.5799999237060547| -0.4330000877380371|[-57.239990234375...|\n",
      "|2000-01-20 00:00:00|    -70.41015625| -46.780029296875| -1.8400001525878906| -0.6039996147155762|[-70.41015625,-46...|\n",
      "|2000-01-21 00:00:00|             5.5|-20.5999755859375| 0.31999969482421875| -0.4270000457763672|[5.5,-20.59997558...|\n",
      "|2000-01-24 00:00:00| -16.35009765625| -16.989990234375|  0.4799995422363281| -0.3080000877380371|[-16.35009765625,...|\n",
      "|2000-01-25 00:00:00|   245.259765625|    22.7099609375|  0.6599998474121094| -0.4070000648498535|[245.259765625,22...|\n",
      "|2000-01-26 00:00:00|  285.4599609375|   31.68994140625|-0.29000091552734375|-0.25799989700317383|[285.4599609375,3...|\n",
      "|2000-01-27 00:00:00|    269.66015625|  7.6099853515625|  0.8199996948242188|-0.09599971771240234|[269.66015625,7.6...|\n",
      "|2000-01-28 00:00:00|479.190185546875| 18.2698974609375|   2.200000762939453| -0.1830000877380371|[479.190185546875...|\n",
      "|2000-01-31 00:00:00|560.539794921875|    26.9599609375|  2.3400001525878906|-0.26200008392333984|[560.539794921875...|\n",
      "|2000-02-01 00:00:00|454.449951171875|   -4.52001953125|  2.6800003051757812|-0.18199968338012695|[454.449951171875...|\n",
      "+-------------------+----------------+-----------------+--------------------+--------------------+--------------------+\n",
      "only showing top 20 rows\n",
      "\n"
     ]
    }
   ],
   "source": [
    "df_assembledFactors = VectorAssembler(inputCols=['Open_'+str(k) for k in range(4)]+\\\n",
    "                               ['F_sqr_'+str(i) for i in range(4)] +\\\n",
    "                               ['F_sqrt_'+str(i) for i in range(4)], outputCol='merge_feature')\\\n",
    "    .transform(df_with_featurized)\\\n",
    "    .drop('F_sqr_0','F_sqr_1','F_sqr_2','F_sqr_3')\\\n",
    "    .drop('F_sqrt_0','F_sqrt_1','F_sqrt_2','F_sqrt_3',)\\\n",
    "\n",
    "df_assembledFactors.show(truncate=True)"
   ]
  },
  {
   "cell_type": "code",
   "execution_count": 64,
   "metadata": {},
   "outputs": [],
   "source": [
    "FinalFactorsReturn = df_assembledFactors['Date', 'merge_feature'] \n",
    "# Lấy ra 2 cột Date, Merge_feature để join với bảng Stock"
   ]
  },
  {
   "cell_type": "code",
   "execution_count": 65,
   "metadata": {},
   "outputs": [
    {
     "name": "stdout",
     "output_type": "stream",
     "text": [
      "Features:  [96.27001953125,-0.0799560546875,3.5999984741210938,0.18199968338012695,9267.9169921875,-0.006392970681190491,12.959988594055176,0.03312388435006142,9.811728477478027,-0.2827650308609009,1.8973661661148071,0.4266141951084137]\n"
     ]
    }
   ],
   "source": [
    "print 'Features: ', FinalFactorsReturn.select('merge_feature').rdd.take(1)[0]['merge_feature']"
   ]
  },
  {
   "cell_type": "markdown",
   "metadata": {},
   "source": [
    "# 2. Xây dựng mô hình \n",
    "![title](data/image/m.png)"
   ]
  },
  {
   "cell_type": "markdown",
   "metadata": {},
   "source": [
    "### Join giữa bảng stock( chứa giá trị thay đổi giữa 2 tuần) và bảng factors( chứa các features vừa được sinh ra)"
   ]
  },
  {
   "cell_type": "code",
   "execution_count": 66,
   "metadata": {},
   "outputs": [],
   "source": [
    "DataStockFactors = df_stocksReturn.join(FinalFactorsReturn, 'Date','inner')"
   ]
  },
  {
   "cell_type": "code",
   "execution_count": 67,
   "metadata": {},
   "outputs": [
    {
     "name": "stdout",
     "output_type": "stream",
     "text": [
      "+-------+--------------------+\n",
      "|summary|                Open|\n",
      "+-------+--------------------+\n",
      "|  count|                3464|\n",
      "|   mean|0.004592956299732244|\n",
      "| stddev|  0.2649215603349682|\n",
      "|    min|  -2.809999942779541|\n",
      "|    max|  2.7799999713897705|\n",
      "+-------+--------------------+\n",
      "\n"
     ]
    }
   ],
   "source": [
    "DataStockFactors.select('Open').describe().show()"
   ]
  },
  {
   "cell_type": "code",
   "execution_count": 68,
   "metadata": {},
   "outputs": [
    {
     "name": "stdout",
     "output_type": "stream",
     "text": [
      "số dữ liệu sau khi ghép bảng:  3464\n"
     ]
    }
   ],
   "source": [
    "print 'số dữ liệu sau khi ghép bảng: ',DataStockFactors.count()"
   ]
  },
  {
   "cell_type": "code",
   "execution_count": 69,
   "metadata": {},
   "outputs": [],
   "source": [
    "from pyspark.ml.regression import LinearRegression\n",
    "lr = LinearRegression(featuresCol = 'merge_feature', labelCol = 'Open', solver='l-bfgs')"
   ]
  },
  {
   "cell_type": "markdown",
   "metadata": {},
   "source": [
    "### Fit dữ liệu vào model để train"
   ]
  },
  {
   "cell_type": "code",
   "execution_count": 70,
   "metadata": {},
   "outputs": [],
   "source": [
    "lr_model = lr.fit(DataStockFactors)"
   ]
  },
  {
   "cell_type": "code",
   "execution_count": 71,
   "metadata": {},
   "outputs": [
    {
     "name": "stdout",
     "output_type": "stream",
     "text": [
      "+-------------------+--------------------+--------------------+--------------------+\n",
      "|               Date|                Open|       merge_feature|          prediction|\n",
      "+-------------------+--------------------+--------------------+--------------------+\n",
      "|2000-01-04 00:00:00| 0.06999993324279785|[96.27001953125,-...|-0.06149214276085421|\n",
      "|2000-01-05 00:00:00| 0.19000005722045898|[350.7099609375,5...|0.011120189824706198|\n",
      "|2000-01-06 00:00:00| 0.13000011444091797|[402.2099609375,4...|-0.02629229158335...|\n",
      "|2000-01-07 00:00:00| 0.07000017166137695|[579.289794921875...|-0.03674202198616387|\n",
      "|2000-01-10 00:00:00|                 0.0|[122.52001953125,...|-0.13851882595937398|\n",
      "|2000-01-11 00:00:00|                 0.5|[143.34033203125,...|-0.15902514182624705|\n",
      "|2000-01-12 00:00:00|                0.25|[169.550048828125...|-0.12607552924096396|\n",
      "|2000-01-13 00:00:00| 0.11999988555908203|[95.0,-33.6899414...|-0.09918550476127679|\n",
      "|2000-01-14 00:00:00|   0.440000057220459|[-171.8798828125,...|-0.09189057252063415|\n",
      "|2000-01-18 00:00:00|   0.440000057220459|[-98.579833984375...|-0.07243665060931793|\n",
      "|2000-01-19 00:00:00|  0.1099998950958252|[-57.239990234375...|-0.05331074437694787|\n",
      "|2000-01-20 00:00:00| 0.11999988555908203|[-70.41015625,-46...|-0.09866382373806724|\n",
      "|2000-01-21 00:00:00| 0.11999988555908203|[5.5,-20.59997558...|-0.03586131188902416|\n",
      "|2000-01-24 00:00:00|  0.3399999141693115|[-16.35009765625,...|-0.00797123530902...|\n",
      "|2000-01-25 00:00:00| 0.36999988555908203|[245.259765625,22...|-0.00165438702335...|\n",
      "|2000-01-26 00:00:00|-0.11999988555908203|[285.4599609375,3...|0.018057360197691632|\n",
      "|2000-01-27 00:00:00| 0.13000011444091797|[269.66015625,7.6...|-0.06260697117334606|\n",
      "|2000-01-28 00:00:00| 0.32000017166137695|[479.190185546875...|-0.04890123669849627|\n",
      "|2000-01-31 00:00:00|-0.13000011444091797|[560.539794921875...|-0.02319346611292...|\n",
      "|2000-02-01 00:00:00|-0.19000005722045898|[454.449951171875...|-0.11338701802362074|\n",
      "|2000-02-02 00:00:00| 0.13000011444091797|[368.159912109375...|-0.14258563340893723|\n",
      "|2000-02-03 00:00:00| 0.19000005722045898|[348.35986328125,...|-0.16477582779300834|\n",
      "|2000-02-04 00:00:00| 0.13000011444091797|[321.5703125,-36....|-0.18086222393388246|\n",
      "|2000-02-07 00:00:00| 0.16000008583068848|[158.80029296875,...| -0.1959563650628098|\n",
      "|2000-02-08 00:00:00|               -0.25|[36.8701171875,-7...|-0.16363397957479484|\n",
      "|2000-02-09 00:00:00|-0.13000011444091797|[123.7099609375,-...|-0.19800512382204283|\n",
      "|2000-02-10 00:00:00|-0.13000011444091797|[228.669921875,-5...| -0.1798399352733067|\n",
      "|2000-02-11 00:00:00|-0.13000011444091797|[85.73974609375,-...|-0.20757745227657554|\n",
      "|2000-02-14 00:00:00|               -0.25|[212.26025390625,...| -0.1671624721209897|\n",
      "|2000-02-15 00:00:00|  -2.690000057220459|[317.2998046875,-...| -0.1592326301376975|\n",
      "|2000-02-16 00:00:00|  -2.690000057220459|[389.6201171875,-...|-0.15981776632081532|\n",
      "|2000-02-17 00:00:00|  -2.809999942779541|[363.0,-5.9100341...|-0.12569378959728755|\n",
      "|2000-02-18 00:00:00|  -2.690000057220459|[371.9296875,20.9...|-0.06352123404661851|\n",
      "|2000-02-22 00:00:00|  -0.440000057220459|[559.14013671875,...|-0.01319259992951...|\n",
      "|2000-02-23 00:00:00| 0.11999988555908203|[513.97998046875,...|-0.09669163022399076|\n",
      "|2000-02-24 00:00:00| 0.38000011444091797|[329.18994140625,...|-0.07312350224513893|\n",
      "|2000-02-25 00:00:00| 0.13000011444091797|[441.509765625,48...|4.976280537598511E-4|\n",
      "|2000-02-28 00:00:00|0.059999942779541016|[303.9599609375,6...| 0.02645846299218619|\n",
      "|2000-02-29 00:00:00|   0.309999942779541|[350.669921875,35...|-0.02740719112632...|\n",
      "|2000-03-01 00:00:00|                 0.0|[25.6201171875,-7...|-0.03460473331692...|\n",
      "|2000-03-02 00:00:00|   2.690000057220459|[-158.3701171875,...| 0.10884830450697656|\n",
      "|2000-03-03 00:00:00|   2.619999885559082|[-143.97998046875...|  0.2331988309514744|\n",
      "|2000-03-06 00:00:00|  2.7799999713897705|[-123.509765625,5...| 0.19274622680940487|\n",
      "|2000-03-07 00:00:00|  -2.440000057220459|[-402.4501953125,...|  0.2784898729662789|\n",
      "|2000-03-08 00:00:00|-0.05999994277954...|[-170.31982421875...|  0.3394912399767216|\n",
      "|2000-03-09 00:00:00|-0.16000008583068848|[-38.91015625,133...|  0.2940544369511644|\n",
      "|2000-03-10 00:00:00|-0.19000005722045898|[-73.7998046875,1...| 0.28938630975603286|\n",
      "|2000-03-13 00:00:00|-0.05999994277954...|[115.39013671875,...| 0.22092594807871693|\n",
      "|2000-03-14 00:00:00|-0.11999988555908203|[-58.26025390625,...|  0.2901414105513933|\n",
      "|2000-03-15 00:00:00|   2.690000057220459|[101.580078125,14...| 0.22834770842107655|\n",
      "|2000-03-16 00:00:00|0.059999942779541016|[-118.0,116.36999...| 0.28968109675783127|\n",
      "|2000-03-17 00:00:00| 0.07000017166137695|[-151.81982421875...| 0.15510428251798983|\n",
      "|2000-03-20 00:00:00|0.029999971389770508|[-317.25,34.10998...| 0.20898216287356977|\n",
      "|2000-03-21 00:00:00|   2.619999885559082|[-306.06982421875...| 0.23839082996933067|\n",
      "|2000-03-22 00:00:00| 0.32000017166137695|[-724.64013671875...| 0.13913109953346842|\n",
      "|2000-03-23 00:00:00| 0.10000014305114746|[-607.3701171875,...| 0.09719355055073119|\n",
      "|2000-03-24 00:00:00| 0.11999988555908203|[-632.41015625,-2...| 0.08855972957324841|\n",
      "|2000-03-27 00:00:00| 0.19000005722045898|[-519.2197265625,...| 0.12302897716634859|\n",
      "|2000-03-28 00:00:00|0.059999942779541016|[-844.43969726562...| 0.06144859668034307|\n",
      "|2000-03-29 00:00:00|0.059999942779541016|[-809.69995117187...| 0.09144044792416499|\n",
      "|2000-03-30 00:00:00|                 0.0|[-700.8798828125,...|0.021584463419918255|\n",
      "|2000-03-31 00:00:00|                 0.0|[-952.77001953125...|-0.05407285836652...|\n",
      "|2000-04-03 00:00:00|-0.11999988555908203|[-1261.9501953125...| -0.3408951057490916|\n",
      "|2000-04-04 00:00:00|-0.11999988555908203|[-687.30029296875...|-0.09934091185410314|\n",
      "|2000-04-05 00:00:00|-0.26000022888183594|[-193.25,-53.1199...|-0.04623376153061...|\n",
      "|2000-04-06 00:00:00|-0.26000022888183594|[-531.7197265625,...|2.521962833015906E-4|\n",
      "|2000-04-07 00:00:00|                 0.0|[-887.43994140625...|-0.08939157230468801|\n",
      "|2000-04-10 00:00:00|-0.32000017166137695|[-882.47021484375...|-0.13132485705919458|\n",
      "|2000-04-11 00:00:00|-0.13000011444091797|[-365.6201171875,...|0.018134058814284006|\n",
      "|2000-04-12 00:00:00|0.029999971389770508|[-531.19018554687...|0.007447044353892051|\n",
      "|2000-04-13 00:00:00|-0.13000011444091797|[-8.949951171875,...|-0.02452781572422...|\n",
      "|2000-04-14 00:00:00|                 0.0|[332.739990234375...|-0.09307067060325429|\n",
      "|2000-04-17 00:00:00|-0.07000017166137695|[694.97998046875,...|  0.0980446766558093|\n",
      "|2000-04-18 00:00:00| 0.11999988555908203|[159.150146484375...|0.016944136063447673|\n",
      "|2000-04-19 00:00:00|                 0.0|[-109.3798828125,...|-0.05457202859220642|\n",
      "|2000-04-20 00:00:00| 0.07000017166137695|[-40.800048828125...|-0.06092872528855228|\n",
      "|2000-04-24 00:00:00| 0.16000008583068848|[291.77001953125,...|-0.13423075988498015|\n",
      "|2000-04-25 00:00:00| 0.07000017166137695|[112.1201171875,-...|-0.09657502999984684|\n",
      "|2000-04-26 00:00:00|  -2.619999885559082|[-203.96997070312...|-0.08943351002446204|\n",
      "|2000-04-27 00:00:00|-0.16000008583068848|[-69.06982421875,...|-0.14837669962582625|\n",
      "|2000-04-28 00:00:00|                 0.0|[-284.3701171875,...|-0.05906440501598821|\n",
      "|2000-05-01 00:00:00|-0.07000017166137695|[-396.96997070312...|0.018520513657301358|\n",
      "|2000-05-02 00:00:00|0.040000200271606445|[-253.03002929687...| 0.04020823055609209|\n",
      "|2000-05-03 00:00:00|                 0.0|[-105.76000976562...| 0.09930223710600646|\n",
      "|2000-05-04 00:00:00|                 0.0|[-63.030029296875...|  0.1089436453973441|\n",
      "|2000-05-05 00:00:00|-0.07000017166137695|[-213.65014648437...|  0.1576669211524884|\n",
      "|2000-05-08 00:00:00|-0.08999991416931152|[-367.51000976562...|0.040249807289787734|\n",
      "|2000-05-09 00:00:00|-0.07000017166137695|[-358.19018554687...| 0.04135175341469746|\n",
      "|2000-05-10 00:00:00|   2.619999885559082|[-369.88012695312...| 0.02358491065780125|\n",
      "|2000-05-11 00:00:00| 0.13000011444091797|[-141.55004882812...| 0.09181068190312258|\n",
      "|2000-05-12 00:00:00|                 0.0|[-330.9599609375,...| 0.05098669512571797|\n",
      "|2000-05-15 00:00:00|                 0.0|[-246.669921875,-...|-0.01823872437029...|\n",
      "|2000-05-16 00:00:00|  0.5899999141693115|[-246.63989257812...|0.020385863517150004|\n",
      "|2000-05-17 00:00:00| 0.26000022888183594|[-177.59008789062...|-0.00477202484628...|\n",
      "|2000-05-18 00:00:00|                 0.0|[68.7099609375,1....|0.006070961522499...|\n",
      "|2000-05-19 00:00:00|                 0.0|[292.610107421875...|0.030032002509886007|\n",
      "|2000-05-22 00:00:00|-0.07000017166137695|[435.030029296875...| 0.05118736195575005|\n",
      "|2000-05-23 00:00:00| 0.38000011444091797|[419.89013671875,...| 0.03977135041044304|\n",
      "|2000-05-24 00:00:00| 0.32000017166137695|[730.900146484375...| 0.11610123163951853|\n",
      "|2000-05-25 00:00:00| 0.19000005722045898|[584.239990234375...| 0.04632565554130691|\n",
      "|2000-05-26 00:00:00|   0.440000057220459|[676.77001953125,...| 0.06791577434601045|\n",
      "|2000-05-30 00:00:00|   0.440000057220459|[457.369873046875...| 0.04245489588472904|\n",
      "|2000-05-31 00:00:00|-0.02999997138977...|[446.7900390625,4...|-0.00608749479140...|\n",
      "|2000-06-01 00:00:00| 0.20999979972839355|[330.239990234375...|0.002787128476744349|\n",
      "|2000-06-02 00:00:00| 0.13000011444091797|[148.1201171875,2...|0.015567553740455865|\n",
      "|2000-06-05 00:00:00| 0.13000011444091797|[45.409912109375,...|-0.06772706563294358|\n",
      "|2000-06-06 00:00:00| 0.13000011444091797|[177.110107421875...|-0.02466738215289206|\n",
      "|2000-06-07 00:00:00|               -0.25|[198.820068359375...|-0.02144177076851...|\n",
      "|2000-06-08 00:00:00|-0.19000005722045898|[187.68994140625,...|-0.04575505054527819|\n",
      "|2000-06-09 00:00:00|-0.19000005722045898|[57.300048828125,...|-0.06937665863552363|\n",
      "|2000-06-12 00:00:00|-0.17999982833862305|[-7.400146484375,...|-0.04652177094262...|\n",
      "|2000-06-13 00:00:00|  -0.440000057220459|[160.489990234375...| -0.0367965958532746|\n",
      "|2000-06-14 00:00:00| -0.6000001430511475|[2.72998046875,-1...|-0.04194915660571334|\n",
      "|2000-06-15 00:00:00|-0.39999985694885254|[98.10009765625,-...|-0.08576849790185273|\n",
      "|2000-06-16 00:00:00|                 0.0|[12.43994140625,-...|-0.08085708164793066|\n",
      "|2000-06-19 00:00:00|                 0.0|[131.940185546875...|-0.08722683812838346|\n",
      "|2000-06-20 00:00:00|                 0.0|[-53.330078125,-1...|-0.02303848018969...|\n",
      "|2000-06-21 00:00:00|-0.05999994277954...|[-92.460205078125...|-0.03372560235504826|\n",
      "|2000-06-22 00:00:00|-0.05999994277954...|[-95.35009765625,...|-0.00913401924236...|\n",
      "|2000-06-23 00:00:00|-0.05999994277954...|[43.570068359375,...| 0.06861747984058826|\n",
      "|2000-06-26 00:00:00|-0.26000022888183594|[85.77001953125,3...|0.055136492024086194|\n",
      "|2000-06-27 00:00:00|                 0.0|[120.190185546875...|0.017284964000133195|\n",
      "|2000-06-28 00:00:00|-0.11999988555908203|[251.0400390625,4...| 0.03103462460354525|\n",
      "|2000-06-29 00:00:00|0.059999942779541016|[321.509765625,41...|0.009088830830095963|\n",
      "|2000-06-30 00:00:00|               -0.25|[354.039794921875...|0.052317038672076155|\n",
      "|2000-07-05 00:00:00|-0.05999994277954...|[204.610107421875...|-0.00904223092759...|\n",
      "|2000-07-06 00:00:00|  -0.309999942779541|[233.719970703125...|0.007819519341960266|\n",
      "|2000-07-07 00:00:00|  -0.309999942779541|[175.6201171875,3...| 0.03225407231292727|\n",
      "|2000-07-10 00:00:00|  -0.309999942779541|[116.02978515625,...|-0.03642712479664...|\n",
      "|2000-07-11 00:00:00|-0.23999977111816406|[44.989990234375,...|-0.04904909609999...|\n",
      "|2000-07-12 00:00:00|-0.17999982833862305|[-26.56005859375,...|-0.00361645744697...|\n",
      "|2000-07-13 00:00:00|  -0.309999942779541|[-190.67016601562...|-0.02583271270193453|\n",
      "|2000-07-14 00:00:00|               -0.75|[-366.69970703125...|0.011249800191265456|\n",
      "|2000-07-17 00:00:00|               -0.25|[-551.11987304687...|-0.04392230480205639|\n",
      "|2000-07-18 00:00:00| -0.8700000047683716|[-472.54028320312...|-0.02136379232286...|\n",
      "|2000-07-19 00:00:00|  -0.690000057220459|[-470.25,-55.6400...|0.013759129937493352|\n",
      "|2000-07-20 00:00:00|-0.13000011444091797|[-551.94995117187...|0.024059164287729553|\n",
      "|2000-07-21 00:00:00|                 0.0|[-341.68994140625...|0.011014258263405807|\n",
      "|2000-07-24 00:00:00|                 0.0|[-290.27001953125...|0.043941110454429465|\n",
      "|2000-07-25 00:00:00|0.059999942779541016|[-164.53979492187...| 0.10608103897283368|\n",
      "|2000-07-26 00:00:00|                 0.0|[-82.77001953125,...| 0.06234456719520374|\n",
      "|2000-07-27 00:00:00|                0.25|[-94.559814453125...| 0.09803196624159673|\n",
      "|2000-07-28 00:00:00|   0.559999942779541|[-113.47998046875...| 0.08038559525117735|\n",
      "|2000-07-31 00:00:00|               -2.25|[112.260009765625...| 0.07509761356540633|\n",
      "|2000-08-01 00:00:00|  0.5600000619888306|[85.880126953125,...| 0.08926329831455583|\n",
      "|2000-08-02 00:00:00|                0.25|[194.4599609375,4...| 0.02687987183647006|\n",
      "|2000-08-03 00:00:00|                 0.0|[304.199951171875...|-0.00904442330934...|\n",
      "|2000-08-04 00:00:00|-0.13000011444091797|[146.389892578125...|0.035275721188052236|\n",
      "|2000-08-07 00:00:00|                 0.0|[146.85009765625,...|0.008846892787522636|\n",
      "|2000-08-08 00:00:00|               -0.25|[119.289794921875...|-0.00280284946379...|\n",
      "|2000-08-09 00:00:00|-0.13000011444091797|[20.25,15.3299560...|  0.0291590563064951|\n",
      "|2000-08-10 00:00:00|-0.05999994277954...|[177.409912109375...|0.003930503702813851|\n",
      "|2000-08-11 00:00:00|-0.17999982833862305|[308.219970703125...|0.002967166869363...|\n",
      "|2000-08-14 00:00:00|                 0.0|[244.489990234375...|0.005599682552448377|\n",
      "|2000-08-15 00:00:00|-0.05999994277954...|[227.3798828125,2...|-0.01605159602226...|\n",
      "|2000-08-16 00:00:00| 0.13000011444091797|[197.919921875,25...|-0.01827417446003817|\n",
      "|2000-08-17 00:00:00|-0.05999994277954...|[268.31005859375,...|-0.03781302768192548|\n",
      "|2000-08-18 00:00:00|                 0.0|[293.449951171875...|-0.04889533933933...|\n",
      "|2000-08-21 00:00:00|-0.13000011444091797|[239.7099609375,2...|-0.01912044696291...|\n",
      "|2000-08-22 00:00:00|0.059999942779541016|[166.679931640625...|-0.04906703314075929|\n",
      "|2000-08-23 00:00:00|-0.05999994277954...|[111.510009765625...|-0.05826741248112114|\n",
      "|2000-08-24 00:00:00|-0.13000011444091797|[60.969970703125,...|-0.03345562162985904|\n",
      "|2000-08-25 00:00:00|-0.13000011444091797|[-88.68017578125,...|0.001028642345889588|\n",
      "|2000-08-28 00:00:00|   2.380000114440918|[-123.76000976562...|0.012605304588916438|\n",
      "|2000-08-29 00:00:00|-0.13000011444091797|[-279.2900390625,...|0.004133009618655...|\n",
      "|2000-08-30 00:00:00|-0.13000011444091797|[-113.39990234375...|-0.02085827812510...|\n",
      "|2000-08-31 00:00:00|0.059999942779541016|[-222.09985351562...|-0.00642253972985...|\n",
      "|2000-09-01 00:00:00|                 0.0|[-413.52001953125...|-0.03308332005057...|\n",
      "|2000-09-05 00:00:00|               -0.25|[-439.89990234375...|-0.07018708996697424|\n",
      "|2000-09-06 00:00:00|-0.19000005722045898|[-273.759765625,-...|-0.04505861037773107|\n",
      "|2000-09-07 00:00:00|-0.13000011444091797|[-182.419921875,-...|-0.05125213076331...|\n",
      "|2000-09-08 00:00:00|-0.19000005722045898|[-465.80004882812...|-0.02109442292491...|\n",
      "|2000-09-11 00:00:00|               -0.25|[-108.6298828125,...|-0.07461478110666027|\n",
      "|2000-09-12 00:00:00|-0.38000011444091797|[-162.77001953125...|-0.05409698787857594|\n",
      "|2000-09-13 00:00:00|               -0.25|[-54.2998046875,-...|-0.11278537670946544|\n",
      "|2000-09-14 00:00:00|-0.05999994277954...|[-324.16015625,-5...| -0.0209965152038725|\n",
      "|2000-09-15 00:00:00|                 0.0|[-155.82006835937...|-0.00498840983056...|\n",
      "|2000-09-18 00:00:00|                 0.0|[-124.14990234375...|-0.02959924937873049|\n",
      "|2000-09-19 00:00:00| 0.11999988555908203|[-141.11010742187...|  0.0397890490418901|\n",
      "|2000-09-20 00:00:00|-0.05999994277954...|[-422.47998046875...| 0.02679951583802162|\n",
      "|2000-09-21 00:00:00|-0.11999988555908203|[-364.64013671875...|0.054761213097941325|\n",
      "|2000-09-22 00:00:00|-0.05999994277954...|[-138.4599609375,...|0.022846106882454118|\n",
      "|2000-09-25 00:00:00|                 0.0|[-500.38012695312...|0.026702277966821824|\n",
      "|2000-09-26 00:00:00|                 0.0|[-435.76000976562...| 0.02112825507790188|\n",
      "|2000-09-27 00:00:00|0.019999980926513672|[-588.2900390625,...|0.025111109908734257|\n",
      "|2000-09-28 00:00:00|-0.19000005722045898|[-397.67993164062...|-0.02432653445934...|\n",
      "|2000-09-29 00:00:00|               -0.25|[-694.71997070312...|-0.12039534166939742|\n",
      "|2000-10-02 00:00:00|               -0.25|[-399.0,-62.34997...|-0.01178325545323201|\n",
      "|2000-10-03 00:00:00|-0.11999988555908203|[-289.53002929687...|-0.02029655904445606|\n",
      "|2000-10-04 00:00:00|                 0.0|[-333.65014648437...|-0.03641392850996036|\n",
      "|2000-10-05 00:00:00|                 0.0|[-169.7099609375,...|-0.10532056326204933|\n",
      "|2000-10-06 00:00:00|                 0.0|[-74.739990234375...|-0.06933857494805494|\n",
      "|2000-10-09 00:00:00|0.019999980926513672|[131.22998046875,...|  -0.069628551596366|\n",
      "|2000-10-10 00:00:00|0.019999980926513672|[168.56005859375,...|-0.07844985300983211|\n",
      "|2000-10-11 00:00:00| 0.09999990463256836|[194.909912109375...|-0.03827932291352965|\n",
      "|2000-10-12 00:00:00| 0.38000011444091797|[4.139892578125,0...|0.007281396023617864|\n",
      "|2000-10-13 00:00:00|                 0.5|[266.139892578125...|-0.00373326755904...|\n",
      "|2000-10-16 00:00:00|                 0.5|[-71.60009765625,...| 0.04969213396321989|\n",
      "|2000-10-17 00:00:00|                 0.0|[-111.9599609375,...|  0.1213393299603144|\n",
      "|2000-10-18 00:00:00|                0.25|[209.56005859375,...| 0.10275578875760959|\n",
      "|2000-10-19 00:00:00|                0.25|[57.030029296875,...| 0.15110959237968963|\n",
      "|2000-10-20 00:00:00| 0.19000005722045898|[44.360107421875,...| 0.06521290075678257|\n",
      "|2000-10-23 00:00:00|-0.01999998092651...|[-14.02978515625,...| 0.06652860118549861|\n",
      "|2000-10-24 00:00:00|-0.01999998092651...|[-96.169921875,36...| 0.11074801877415048|\n",
      "|2000-10-25 00:00:00|-0.11999988555908203|[79.050048828125,...|  0.0382361120520119|\n",
      "|2000-10-26 00:00:00|-0.38000011444091797|[-70.5,44.3800048...| 0.12138223669597271|\n",
      "|2000-10-27 00:00:00|                -0.5|[-198.57983398437...|  0.1492209914339568|\n",
      "|2000-10-30 00:00:00|                -0.5|[-287.78979492187...|0.053576942015033796|\n",
      "|2000-10-31 00:00:00| 0.11999988555908203|[-153.6298828125,...|-0.04109737743564823|\n",
      "|2000-11-01 00:00:00|               -0.25|[-178.89990234375...|-0.04878769091110...|\n",
      "|2000-11-02 00:00:00|               -0.25|[-265.47998046875...|0.007050227459396891|\n",
      "|2000-11-03 00:00:00|-0.19000005722045898|[-402.8701171875,...|-0.00841988281963...|\n",
      "|2000-11-06 00:00:00|                 0.0|[-526.23999023437...|-1.71808437137220...|\n",
      "|2000-11-07 00:00:00|                 0.0|[-507.25,-89.5699...|-0.04255618016372461|\n",
      "|2000-11-08 00:00:00| 0.11999988555908203|[-598.15014648437...|-0.03032590909058...|\n",
      "|2000-11-09 00:00:00|                 0.0|[-351.419921875,-...|-0.04839276583584807|\n",
      "|2000-11-10 00:00:00|-0.12000000476837158|[-142.18017578125...|-0.05404705184985638|\n",
      "|2000-11-13 00:00:00|-0.12000000476837158|[-82.360107421875...|0.007607025676037...|\n",
      "|2000-11-14 00:00:00|-0.14999985694885254|[-321.63012695312...| 0.07868794953798182|\n",
      "|2000-11-15 00:00:00|-0.02999997138977...|[-538.57006835937...| 0.04785564055839828|\n",
      "|2000-11-16 00:00:00|-0.12000000476837158|[-477.7099609375,...|-0.02854708648320...|\n",
      "|2000-11-17 00:00:00|                 0.0|[-381.88989257812...|-0.01105842533174...|\n",
      "|2000-11-20 00:00:00|               -0.25|[-240.39013671875...|0.004754814117627296|\n",
      "|2000-11-21 00:00:00|                 0.0|[-13.159912109375...| 0.11574065577241607|\n",
      "|2000-11-22 00:00:00|-0.11999988555908203|[-79.849853515625...| 0.07114307734116963|\n",
      "|2000-11-27 00:00:00| 0.12000000476837158|[-43.329833984375...| 0.10733984342585763|\n",
      "|2000-11-28 00:00:00|                 0.0|[120.330078125,31...| 0.04349969508240935|\n",
      "|2000-11-29 00:00:00|-0.09000003337860107|[248.39013671875,...| 0.02050422815002501|\n",
      "|2000-11-30 00:00:00|-0.09000003337860107|[221.43994140625,...|-0.01079397627110...|\n",
      "|2000-12-01 00:00:00|                 0.0|[44.56982421875,2...| 0.07321298536676392|\n",
      "|2000-12-04 00:00:00|-0.23000001907348633|[36.159912109375,...|0.003220992418526...|\n",
      "|2000-12-05 00:00:00| 0.12999999523162842|[-85.659912109375...| 0.03946088342820677|\n",
      "|2000-12-06 00:00:00|-0.12000000476837158|[-467.91015625,-7...| -0.0170621033224618|\n",
      "|2000-12-07 00:00:00|-0.12000000476837158|[-438.080078125,-...|-0.05367073723502757|\n",
      "|2000-12-08 00:00:00|-0.05999994277954...|[-460.26000976562...|-0.01681858214744...|\n",
      "|2000-12-11 00:00:00|-0.12000000476837158|[-418.31005859375...|-0.00976948600052...|\n",
      "|2000-12-12 00:00:00|0.039999961853027344|[-522.72998046875...|-0.01418929216388106|\n",
      "|2000-12-13 00:00:00|-0.11000001430511475|[-478.67016601562...|0.015731691667949427|\n",
      "|2000-12-14 00:00:00|-0.11000001430511475|[-267.80004882812...|0.038320496048079494|\n",
      "|2000-12-15 00:00:00| 0.12000000476837158|[-214.5,-20.65002...| 0.02874074117142526|\n",
      "|2000-12-18 00:00:00| 0.23000001907348633|[-444.15991210937...| 0.05550812605190404|\n",
      "|2000-12-19 00:00:00|                 0.0|[-23.10009765625,...| 0.07232370271844295|\n",
      "|2000-12-20 00:00:00|                 0.0|[162.150146484375...|-0.00144382472130...|\n",
      "|2000-12-21 00:00:00| -0.0700000524520874|[78.510009765625,...|0.057148146057096366|\n",
      "|2000-12-22 00:00:00|-0.06000006198883...|[27.02001953125,2...| 0.04971190437198787|\n",
      "|2000-12-26 00:00:00|                 0.0|[-125.580078125,-...| 0.03289174350189457|\n",
      "|2000-12-27 00:00:00|-0.03999996185302...|[24.260009765625,...|-0.02264369376340...|\n",
      "|2000-12-28 00:00:00|0.039999961853027344|[121.66015625,-2....|-0.08033480366340436|\n",
      "|2000-12-29 00:00:00|-0.04999995231628418|[78.81005859375,-...|-0.09041855609660873|\n",
      "|2001-01-02 00:00:00|-0.02999997138977...|[236.3701171875,6...|-0.08122223792674058|\n",
      "|2001-01-03 00:00:00|-0.02999997138977...|[442.179931640625...|-0.01942801718806...|\n",
      "|2001-01-04 00:00:00|0.060000061988830566|[244.400146484375...|-0.08993449113258836|\n",
      "|2001-01-05 00:00:00|                 0.0|[185.989990234375...|-0.06379728299375936|\n",
      "|2001-01-08 00:00:00| 0.21000003814697266|[370.5400390625,4...|-0.03216909451459...|\n",
      "|2001-01-09 00:00:00|                 0.0|[426.050048828125...|-0.00339564048191...|\n",
      "|2001-01-10 00:00:00|                 0.0|[443.64013671875,...| 0.01479074278399382|\n",
      "|2001-01-11 00:00:00|                 0.0|[209.7998046875,4...| 0.02390479229399928|\n",
      "|2001-01-12 00:00:00|  0.0700000524520874|[117.72998046875,...| 0.02505667759719182|\n",
      "|2001-01-16 00:00:00| 0.15999996662139893|[213.52001953125,...|0.025733842976320528|\n",
      "|2001-01-17 00:00:00|0.029999971389770508|[137.580078125,47...| 0.04920596687557482|\n",
      "|2001-01-18 00:00:00|                 0.0|[74.830078125,36....|  0.0505493581542642|\n",
      "|2001-01-19 00:00:00|                 0.0|[-55.43017578125,...| 0.08904859661815204|\n",
      "|2001-01-22 00:00:00|0.060000061988830566|[-119.4501953125,...| 0.08530822128113322|\n",
      "|2001-01-23 00:00:00|-0.07999992370605469|[-117.35009765625...| 0.09713177419323184|\n",
      "|2001-01-24 00:00:00|                 0.0|[-234.80004882812...| 0.06651694301395109|\n",
      "|2001-01-25 00:00:00| 0.10000002384185791|[-210.57006835937...| 0.01345195987502117|\n",
      "|2001-01-26 00:00:00| 0.10000002384185791|[-163.14990234375...|0.027828016518595938|\n",
      "|2001-01-29 00:00:00| 0.10000002384185791|[-298.64013671875...| 0.03191446704682911|\n",
      "|2001-01-30 00:00:00|                 0.0|[-334.169921875,-...| 0.04099201655788759|\n",
      "|2001-01-31 00:00:00|-0.12000000476837158|[-410.43017578125...|-0.01336375483103026|\n",
      "|2001-02-01 00:00:00|-0.16000008583068848|[-234.94018554687...|-0.02297315566428...|\n",
      "|2001-02-02 00:00:00|0.059999942779541016|[-338.32983398437...|-0.00114838740512...|\n",
      "|2001-02-05 00:00:00|-0.06000006198883...|[-200.07983398437...|-0.03881432737157975|\n",
      "|2001-02-06 00:00:00|0.059999942779541016|[-360.11987304687...|-0.05478577287244...|\n",
      "|2001-02-07 00:00:00|-0.04999995231628418|[-343.81005859375...|-0.09120365116218322|\n",
      "|2001-02-08 00:00:00|-0.03999996185302...|[-404.51000976562...|-0.06630809580439313|\n",
      "|2001-02-09 00:00:00| -0.1700000762939453|[-254.36010742187...|-0.07861890123534962|\n",
      "|2001-02-12 00:00:00|                 0.0|[-172.01000976562...|-0.04020564336802...|\n",
      "|2001-02-13 00:00:00| 0.10000002384185791|[-286.96020507812...|-0.04842813606696757|\n",
      "|2001-02-14 00:00:00| 0.12000000476837158|[-311.3798828125,...|-0.04434259172020...|\n",
      "|2001-02-15 00:00:00| 0.19000005722045898|[-425.39990234375...|-0.02582543286934...|\n",
      "|2001-02-16 00:00:00|                 0.0|[-301.85009765625...|-0.08248934011438515|\n",
      "|2001-02-20 00:00:00|0.060000061988830566|[-235.27001953125...|-0.04225188765128904|\n",
      "|2001-02-21 00:00:00|-0.19000005722045898|[-40.56005859375,...|-0.02049448031615456|\n",
      "|2001-02-22 00:00:00| 0.16999995708465576|[-60.829833984375...| 0.07485209529071503|\n",
      "|2001-02-23 00:00:00|-0.13000011444091797|[-97.159912109375...| 0.09882224751132752|\n",
      "|2001-02-26 00:00:00|  0.0700000524520874|[-286.19982910156...| 0.07628605601579648|\n",
      "|2001-02-27 00:00:00| -0.1700000762939453|[-337.93994140625...|-0.07777458612225492|\n",
      "|2001-02-28 00:00:00| -0.1700000762939453|[-275.31982421875...|-0.04044035534750491|\n",
      "|2001-03-01 00:00:00|-0.19000005722045898|[-102.51000976562...|  -0.115725413226778|\n",
      "|2001-03-02 00:00:00|-0.12000000476837158|[-196.65002441406...|-0.06286794539334567|\n",
      "|2001-03-05 00:00:00|-0.05999994277954...|[-241.30004882812...|-0.07886209572803506|\n",
      "|2001-03-06 00:00:00|                 0.0|[-239.85009765625...|-0.05309394101200275|\n",
      "|2001-03-07 00:00:00|  0.0700000524520874|[-378.48999023437...|-0.10716769012492225|\n",
      "|2001-03-08 00:00:00|-0.12000000476837158|[-365.96008300781...|-0.14612856146730188|\n",
      "|2001-03-09 00:00:00|  0.0700000524520874|[-185.20007324218...|-0.19578692292333819|\n",
      "|2001-03-12 00:00:00|                 0.0|[-43.970092773437...|-0.16036645023293103|\n",
      "|2001-03-13 00:00:00|  0.0700000524520874|[-26.0,-27.470092...|-0.06261881053143163|\n",
      "|2001-03-14 00:00:00| 0.13000011444091797|[-23.260009765625...|-0.05569262893697895|\n",
      "|2001-03-15 00:00:00| 0.19000005722045898|[-185.35009765625...|0.008716335612621123|\n",
      "|2001-03-16 00:00:00| 0.13999998569488525|[-84.159912109375...|-0.04459993596229...|\n",
      "|2001-03-19 00:00:00|                 0.0|[-66.22998046875,...|0.041116487505442806|\n",
      "|2001-03-20 00:00:00|                 0.0|[-206.26989746093...|-0.00805174144199...|\n",
      "|2001-03-21 00:00:00|-0.00999999046325...|[-194.36999511718...|-0.03756336017858...|\n",
      "|2001-03-22 00:00:00|-0.00999999046325...|[-135.42993164062...|-0.02750910024083...|\n",
      "|2001-03-23 00:00:00|-0.00999999046325...|[-182.80004882812...| 0.13484886174921057|\n",
      "|2001-03-26 00:00:00|-0.00999999046325...|[-218.04992675781...|0.036304900461784466|\n",
      "|2001-03-27 00:00:00| 0.12000000476837158|[-151.01989746093...|0.002489952967516...|\n",
      "|2001-03-28 00:00:00|0.059999942779541016|[4.6300048828125,...|-0.05924473283263...|\n",
      "|2001-03-29 00:00:00|-0.08000004291534424|[42.75,12.5999755...| 0.00867798647704136|\n",
      "|2001-03-30 00:00:00|-0.01999998092651...|[104.279907226562...|0.013477893772227054|\n",
      "|2001-04-02 00:00:00|0.059999942779541016|[37.1300048828125...| 0.01497757612340583|\n",
      "|2001-04-03 00:00:00| 0.07999992370605469|[246.880004882812...|-0.00113790490058...|\n",
      "|2001-04-04 00:00:00| 0.08000004291534424|[432.509887695312...| 0.09326979858830188|\n",
      "|2001-04-05 00:00:00| 0.08000004291534424|[461.989868164062...| 0.11532373415322957|\n",
      "|2001-04-06 00:00:00| 0.08000004291534424|[362.250122070312...| 0.04599426685916374|\n",
      "|2001-04-09 00:00:00| 0.08000004291534424|[315.660034179687...|0.060403357907983436|\n",
      "|2001-04-10 00:00:00|-0.09000003337860107|[241.739990234375...| 0.05747607449212005|\n",
      "|2001-04-11 00:00:00|-0.20000004768371582|[156.109985351562...| 0.07341922901748608|\n",
      "|2001-04-12 00:00:00|-0.12000000476837158|[189.050048828125...| 0.05353541990155351|\n",
      "|2001-04-16 00:00:00|-0.10000002384185791|[178.41015625,69....| 0.07509429063627214|\n",
      "|2001-04-17 00:00:00|-0.10000002384185791|[243.890014648437...|  0.0690642833920934|\n",
      "|2001-04-18 00:00:00| -0.2200000286102295|[200.18994140625,...|  0.0877671422457395|\n",
      "|2001-04-19 00:00:00|-0.15000009536743164|[82.190185546875,...|0.056918439085140514|\n",
      "|2001-04-20 00:00:00|-0.15000009536743164|[-69.289794921875...|0.021730861607904325|\n",
      "|2001-04-23 00:00:00|-0.15000009536743164|[75.679931640625,...| 0.02118410066527972|\n",
      "|2001-04-24 00:00:00|-0.15000009536743164|[153.68994140625,...|0.029989435833502852|\n",
      "|2001-04-25 00:00:00|-0.11000001430511475|[148.880004882812...| 0.06467863939690532|\n",
      "|2001-04-26 00:00:00|-0.09999990463256836|[109.47998046875,...| 0.02655423721438197|\n",
      "|2001-04-27 00:00:00|-0.09999990463256836|[60.5,20.66003417...|0.034199511399555176|\n",
      "|2001-04-30 00:00:00|-0.10000002384185791|[-7.75,-7.3800048...|-0.01753763987305...|\n",
      "|2001-05-01 00:00:00| -0.1499999761581421|[-29.260009765625...|-0.00740595815942...|\n",
      "|2001-05-02 00:00:00|-0.09999990463256836|[-137.64990234375...|-0.00724796534948...|\n",
      "|2001-05-03 00:00:00|-0.08999991416931152|[-13.06005859375,...| 0.04328484069284983|\n",
      "|2001-05-04 00:00:00|-0.03999996185302...|[79.949951171875,...| 0.05550481116782056|\n",
      "|2001-05-07 00:00:00|-0.03999996185302...|[7.409912109375,2...|0.062096312892139766|\n",
      "|2001-05-08 00:00:00|-0.04999995231628418|[110.169921875,46...| 0.06754234004103107|\n",
      "|2001-05-09 00:00:00| 0.05000007152557373|[137.449951171875...|0.045296996908696624|\n",
      "|2001-05-10 00:00:00|  0.1499999761581421|[54.52001953125,3...|  0.0546216298333995|\n",
      "|2001-05-11 00:00:00| 0.09999990463256836|[150.43994140625,...| 0.04217651899697568|\n",
      "|2001-05-14 00:00:00| 0.05000007152557373|[134.559814453125...| 0.03916543319286946|\n",
      "|2001-05-15 00:00:00| 0.04999995231628418|[49.969970703125,...|0.028269795512443543|\n",
      "|2001-05-16 00:00:00| 0.09999990463256836|[24.929931640625,...|-0.00846756071720767|\n",
      "|2001-05-17 00:00:00| 0.08999991416931152|[-38.889892578125...|-0.05313550597923018|\n",
      "|2001-05-18 00:00:00|  -0.309999942779541|[-17.860107421875...|-0.05654560728775361|\n",
      "|2001-05-21 00:00:00|-0.15999996662139893|[-34.139892578125...|-0.04065360938115452|\n",
      "|2001-05-22 00:00:00| 0.09000003337860107|[-79.31982421875,...|-0.02249333411432...|\n",
      "|2001-05-23 00:00:00|                 0.0|[-91.719970703125...|-0.05230992060002...|\n",
      "|2001-05-24 00:00:00|                 0.0|[13.7099609375,-1...|-0.03096006931291...|\n",
      "|2001-05-25 00:00:00| 0.05000007152557373|[-75.77001953125,...|-0.01735504444044565|\n",
      "|2001-05-29 00:00:00|                 0.0|[-106.35986328125...|0.006990016399802356|\n",
      "|2001-05-30 00:00:00| 0.05000007152557373|[38.670166015625,...|-0.03327099618407957|\n",
      "|2001-05-31 00:00:00| 0.05000007152557373|[8.2099609375,-6....|-0.01998420658046277|\n",
      "|2001-06-01 00:00:00| 0.10000002384185791|[-113.32006835937...|-0.04966682675108...|\n",
      "|2001-06-04 00:00:00| 0.43999993801116943|[-129.35998535156...|-0.04753567951938801|\n",
      "|2001-06-05 00:00:00| 0.28999996185302734|[-121.27001953125...|-0.06728042843480761|\n",
      "|2001-06-06 00:00:00|0.009999990463256836|[-265.75012207031...| -0.0457834041481715|\n",
      "|2001-06-07 00:00:00|-0.05000007152557373|[-181.72998046875...|-0.02849545395900...|\n",
      "|2001-06-08 00:00:00|-0.05000007152557373|[-201.75,-39.9199...|0.003451559250554921|\n",
      "|2001-06-11 00:00:00|-0.05000007152557373|[-151.06982421875...|-0.02343061675894...|\n",
      "|2001-06-12 00:00:00| -0.1499999761581421|[-110.70007324218...|-0.02915862350948119|\n",
      "|2001-06-13 00:00:00| -0.1499999761581421|[-107.330078125,-...|  -0.050973055269924|\n",
      "|2001-06-14 00:00:00|-0.23000001907348633|[-3.860107421875,...|-0.06131592610053...|\n",
      "|2001-06-15 00:00:00| -0.2799999713897705|[112.08984375,6.3...|-0.02264352367982...|\n",
      "|2001-06-18 00:00:00|-0.26999998092651367|[121.420043945312...|-0.02332235271810...|\n",
      "|2001-06-19 00:00:00|-0.18999993801116943|[91.06005859375,2...|0.046394423671828534|\n",
      "|2001-06-20 00:00:00| -0.1499999761581421|[148.779907226562...|0.004021531107103977|\n",
      "|2001-06-21 00:00:00|-0.19999992847442627|[34.429931640625,...|-0.03921863294200786|\n",
      "|2001-06-22 00:00:00|               -0.25|[-51.030029296875...| -0.0933934089418995|\n",
      "|2001-06-25 00:00:00|               -0.25|[-10.730102539062...|-0.06267756321203649|\n",
      "|2001-06-26 00:00:00|                 0.0|[-68.140014648437...|-0.05155389532363999|\n",
      "|2001-06-27 00:00:00|-0.15000009536743164|[-35.070068359375...|-0.06195625534353259|\n",
      "|2001-06-28 00:00:00|-0.06000006198883...|[-28.659912109375...|-0.00326974774480...|\n",
      "|2001-06-29 00:00:00|-0.06000006198883...|[-51.35986328125,...| 0.01142553272172844|\n",
      "|2001-07-02 00:00:00|-0.06000006198883...|[-139.2900390625,...|0.004198747717358762|\n",
      "|2001-07-03 00:00:00| -0.1400001049041748|[-102.01013183593...|0.013703220882936042|\n",
      "|2001-07-05 00:00:00|-0.15000009536743164|[-80.569946289062...|-0.00346812982882...|\n",
      "|2001-07-06 00:00:00|-0.10000002384185791|[-45.5,-4.2199707...| 0.03073970623697862|\n",
      "|2001-07-09 00:00:00|-0.04999995231628418|[32.8699951171875...| 0.06154589888275053|\n",
      "|2001-07-10 00:00:00|-0.04999995231628418|[-63.239990234375...|0.021678273871064937|\n",
      "|2001-07-11 00:00:00|-0.05000007152557373|[7.9600830078125,...|-0.02502294300941...|\n",
      "|2001-07-12 00:00:00| 0.10000002384185791|[-53.18994140625,...| 0.06006316163784955|\n",
      "|2001-07-13 00:00:00| 0.09000003337860107|[-47.640014648437...|0.009559375536998777|\n",
      "|2001-07-16 00:00:00|-0.00999999046325...|[-44.420043945312...|-0.01318850292241...|\n",
      "|2001-07-17 00:00:00|-0.05999994277954...|[6.5,2.0700683593...|0.005600554948240046|\n",
      "|2001-07-18 00:00:00|0.040000081062316895|[16.4700927734375...|-0.01289883618328...|\n",
      "|2001-07-19 00:00:00|-0.04999995231628418|[50.2000732421875...|0.008979429561357815|\n",
      "|2001-07-20 00:00:00| 0.04999995231628418|[63.919921875,5.7...|8.301283340484311E-4|\n",
      "|2001-07-23 00:00:00|  0.7999999523162842|[4.02001953125,3....| 0.01193231165790382|\n",
      "|2001-07-24 00:00:00| 0.04999995231628418|[46.469970703125,...|0.007642835123390...|\n",
      "|2001-07-25 00:00:00| -0.1499999761581421|[53.0699462890625...| 0.05843053506171971|\n",
      "|2001-07-26 00:00:00| -0.1499999761581421|[-17.550048828125...|-0.02155138509634413|\n",
      "|2001-07-27 00:00:00| -0.1499999761581421|[-63.239990234375...|-0.03302633375513535|\n",
      "|2001-07-30 00:00:00|-0.03999996185302...|[-71.069946289062...| -0.0179290523188995|\n",
      "|2001-07-31 00:00:00|-0.04999995231628418|[-33.140014648437...|-0.03307242695111756|\n",
      "|2001-08-01 00:00:00| -0.1499999761581421|[-87.360107421875...|-0.03582679381858886|\n",
      "|2001-08-02 00:00:00|-0.04999995231628418|[-192.61999511718...|-0.01306402196114...|\n",
      "|2001-08-03 00:00:00|-0.04999995231628418|[-183.72985839843...|-9.32879807022026...|\n",
      "|2001-08-06 00:00:00| -0.7999999523162842|[-181.56994628906...|-0.03055879984072...|\n",
      "|2001-08-07 00:00:00|-0.12999999523162842|[-143.40002441406...|0.007741224912042429|\n",
      "|2001-08-08 00:00:00|0.039999961853027344|[-164.0,-47.14001...|-0.04035619025462676|\n",
      "|2001-08-09 00:00:00|0.039999961853027344|[-104.9599609375,...|0.009848658899295263|\n",
      "|2001-08-10 00:00:00|-0.04999995231628418|[-94.02001953125,...|-0.01504440011219...|\n",
      "|2001-08-13 00:00:00|-0.00999999046325...|[-50.340087890625...|0.005252711599466494|\n",
      "|2001-08-14 00:00:00|-0.19000005722045898|[-78.159912109375...|0.009091616329573383|\n",
      "|2001-08-15 00:00:00|-0.10000002384185791|[-88.760009765625...|-0.00564243968626418|\n",
      "|2001-08-16 00:00:00| -0.0700000524520874|[-82.710083007812...|-0.02977161801440...|\n",
      "|2001-08-17 00:00:00|-0.04999995231628418|[-111.16003417968...|-0.07244742418535693|\n",
      "|2001-08-20 00:00:00|-0.04999995231628418|[-64.0,-28.390014...|-0.03529574162575985|\n",
      "|2001-08-21 00:00:00|-0.01999998092651...|[-111.68994140625...|-0.03478837205924867|\n",
      "|2001-08-22 00:00:00|-0.13999998569488525|[-115.55004882812...|-0.02774035621803446|\n",
      "|2001-08-23 00:00:00|-0.13999998569488525|[-163.5,-58.91003...|-0.07471079706123902|\n",
      "|2001-08-24 00:00:00|-0.05000007152557373|[-189.53991699218...|-0.09892246294296601|\n",
      "|2001-08-27 00:00:00|-0.10000002384185791|[-298.86999511718...|-0.09156568281946097|\n",
      "|2001-08-28 00:00:00|0.039999961853027344|[-320.90002441406...|-0.15629513978624296|\n",
      "|2001-08-29 00:00:00|-0.19000005722045898|[-314.919921875,-...|-0.13343775441110708|\n",
      "|2001-08-30 00:00:00|-0.12999999523162842|[-322.25,-132.5,0...|-0.15967839176846887|\n",
      "|2001-08-31 00:00:00|               -0.25|[-388.46997070312...|-0.16842035446719975|\n",
      "|2001-09-04 00:00:00|               -0.25|[-342.82006835937...|-0.18889893305056465|\n",
      "|2001-09-05 00:00:00|-0.12999999523162842|[-266.22998046875...|-0.15070494436388138|\n",
      "|2001-09-06 00:00:00| -0.1499999761581421|[-221.43994140625...|-0.16086843501755294|\n",
      "|2001-09-07 00:00:00| -0.1499999761581421|[-237.21997070312...|-0.13453481870028414|\n",
      "|2001-09-10 00:00:00|-0.10000002384185791|[-201.21997070312...|-0.06619637990805746|\n",
      "|2001-09-17 00:00:00|-0.10000002384185791|[-122.38000488281...|-0.07150174088133045|\n",
      "|2001-09-18 00:00:00|                 0.0|[-112.76000976562...|  0.0712180008394386|\n",
      "|2001-09-19 00:00:00| 0.03000009059906006|[-81.25,18.589965...| 0.11660242264787216|\n",
      "|2001-09-20 00:00:00|-0.05999994277954...|[107.660034179687...| 0.11346397220631503|\n",
      "|2001-09-21 00:00:00|-0.00999999046325...|[190.609985351562...| 0.13614123002133066|\n",
      "|2001-09-24 00:00:00|-0.00999999046325...|[123.460083007812...| 0.18870773194669352|\n",
      "|2001-09-25 00:00:00|-0.07999992370605469|[98.5899658203125...| 0.11028341844832228|\n",
      "|2001-09-26 00:00:00|0.019999980926513672|[49.199951171875,...| 0.09376580920089074|\n",
      "|2001-09-27 00:00:00| 0.04999995231628418|[192.75,73.950012...|  0.0805012704947562|\n",
      "|2001-09-28 00:00:00|-0.09999990463256836|[217.64990234375,...| 0.09363778997055544|\n",
      "|2001-10-01 00:00:00|-0.04999995231628418|[192.590087890625...|0.041063510579577724|\n",
      "|2001-10-02 00:00:00|-0.03999996185302...|[225.739990234375...|0.050470327219148674|\n",
      "|2001-10-03 00:00:00| 0.12999999523162842|[273.669921875,46...| 0.02924705306166399|\n",
      "|2001-10-04 00:00:00| 0.28999996185302734|[46.0899658203125...|0.010542554800417882|\n",
      "|2001-10-05 00:00:00| 0.26999998092651367|[58.0899658203125...|-0.02066557293135...|\n",
      "|2001-10-08 00:00:00| 0.12999999523162842|[83.14990234375,2...|-0.02005577060698...|\n",
      "|2001-10-09 00:00:00|                0.25|[116.430053710937...| 0.03521769130881237|\n",
      "|2001-10-10 00:00:00|  0.1700000762939453|[143.56005859375,...|0.010443577069814334|\n",
      "|2001-10-11 00:00:00|  0.1400001049041748|[58.93994140625,4...|0.002493343679285...|\n",
      "|2001-10-12 00:00:00|                0.25|[73.570068359375,...|0.001857511319910...|\n",
      "|2001-10-15 00:00:00| 0.25999999046325684|[79.3800048828125...|0.015274613331395914|\n",
      "|2001-10-16 00:00:00| 0.12000000476837158|[-22.449951171875...|-0.00468061310987...|\n",
      "|2001-10-17 00:00:00| 0.13999998569488525|[-62.819946289062...|-0.03825514938591764|\n",
      "|2001-10-18 00:00:00|-0.12999999523162842|[56.830078125,-17...|-0.06552365041970966|\n",
      "|2001-10-19 00:00:00|-0.05000007152557373|[96.8800048828125...| 0.03385571082866361|\n",
      "|2001-10-22 00:00:00| 0.08999991416931152|[102.210083007812...|-8.37972017429747...|\n",
      "|2001-10-23 00:00:00| 0.04999995231628418|[66.3800048828125...| 0.01039681207643962|\n",
      "|2001-10-24 00:00:00|  0.1099998950958252|[113.52001953125,...| 0.03528066080482779|\n",
      "|2001-10-25 00:00:00|  0.1499999761581421|[147.190063476562...|0.044375014046375325|\n",
      "|2001-10-26 00:00:00|  0.5699999332427979|[60.949951171875,...| 0.05544764813281823|\n",
      "|2001-10-29 00:00:00|   0.630000114440918|[62.8299560546875...|0.046600764146491794|\n",
      "|2001-10-30 00:00:00|  0.8700000047683716|[189.169921875,40...| 0.04969783734840058|\n",
      "|2001-10-31 00:00:00|  0.8199999332427979|[220.329956054687...| 0.06074468258130532|\n",
      "|2001-11-01 00:00:00|  1.3300000429153442|[185.839965820312...| 0.09176912994097379|\n",
      "|2001-11-02 00:00:00|   1.090000033378601|[162.109985351562...| 0.03842076536427598|\n",
      "|2001-11-05 00:00:00|    1.03000009059906|[144.18994140625,...|0.049601899497819624|\n",
      "|2001-11-06 00:00:00|  0.9000000953674316|[139.549926757812...|  0.0532639520623089|\n",
      "|2001-11-07 00:00:00|   0.690000057220459|[52.5599365234375...| 0.06442952331064605|\n",
      "|2001-11-08 00:00:00|  0.6499999761581421|[23.22998046875,2...|  0.0454819788674546|\n",
      "|2001-11-09 00:00:00|                 0.0|[89.800048828125,...|0.026233968459742973|\n",
      "|2001-11-13 00:00:00|-0.15000009536743164|[50.1300048828125...| 0.03851698560679499|\n",
      "|2001-11-14 00:00:00|-0.18000006675720215|[-11.819946289062...|-0.04783557995416...|\n",
      "|2001-11-15 00:00:00|  -0.690000057220459|[37.9300537109375...|-0.01276876189526...|\n",
      "|2001-11-16 00:00:00| -0.5099999904632568|[11.6500244140625...|-0.02437222387499...|\n",
      "|2001-11-19 00:00:00| -0.4500000476837158|[5.1800537109375,...|-0.03878431183024528|\n",
      "|2001-11-20 00:00:00|-0.40000009536743164|[53.830078125,-7....|-0.04085735641210057|\n",
      "|2001-11-21 00:00:00|-0.19000005722045898|[171.619995117187...| 0.00330171559437217|\n",
      "|2001-11-26 00:00:00| 0.38000011444091797|[93.1400146484375...|-0.02993004887535...|\n",
      "|2001-11-27 00:00:00|  0.4499998092651367|[78.340087890625,...|-0.10167926006847125|\n",
      "|2001-11-28 00:00:00| 0.15000009536743164|[85.8800048828125...|-0.07733300689410065|\n",
      "|2001-11-29 00:00:00| 0.05000019073486328|[81.2099609375,8....|-0.03276399115706...|\n",
      "|2001-11-30 00:00:00|  0.1099998950958252|[15.8900146484375...| -0.0894161139503258|\n",
      "|2001-12-03 00:00:00| 0.07999992370605469|[35.8099365234375...|-0.08910031280376886|\n",
      "|2001-12-04 00:00:00| 0.04999995231628418|[80.699951171875,...|-0.04415070505426752|\n",
      "|2001-12-05 00:00:00| 0.04999995231628418|[1.3499755859375,...| -0.0060785844456108|\n",
      "|2001-12-06 00:00:00| 0.04999995231628418|[-76.219970703125...|-0.02859699078667...|\n",
      "|2001-12-07 00:00:00|  0.1400001049041748|[-102.13000488281...|-0.00944353890457...|\n",
      "|2001-12-10 00:00:00| -0.3900001049041748|[-60.830078125,-1...|-0.01325072989645...|\n",
      "|2001-12-11 00:00:00| -0.4199998378753662|[-61.160034179687...|0.037760326751474324|\n",
      "|2001-12-12 00:00:00|-0.06999993324279785|[-40.160034179687...| 0.06003457252959102|\n",
      "|2001-12-13 00:00:00| 0.04999995231628418|[5.8699951171875,...| 0.05891185810136119|\n",
      "|2001-12-14 00:00:00| 0.15000009536743164|[39.1300048828125...| 0.08825836059011992|\n",
      "|2001-12-17 00:00:00| 0.15000009536743164|[14.2401123046875...| 0.06287584222337186|\n",
      "|2001-12-18 00:00:00| 0.19000005722045898|[-11.299926757812...| 0.06861613712112845|\n",
      "|2001-12-19 00:00:00| 0.25999999046325684|[80.1800537109375...|0.018957273038067313|\n",
      "|2001-12-20 00:00:00|  0.1700000762939453|[106.239990234375...|0.015553170633724227|\n",
      "|2001-12-21 00:00:00| 0.34999990463256836|[97.8699951171875...|0.020286202476306244|\n",
      "|2001-12-26 00:00:00| 0.31999993324279785|[96.3599853515625...|5.502310352489726E-4|\n",
      "|2001-12-27 00:00:00| 0.15999984741210938|[82.1800537109375...|-6.33801934033946...|\n",
      "|2001-12-28 00:00:00|  0.1399998664855957|[26.8800048828125...|-0.02413090631646864|\n",
      "|2001-12-31 00:00:00| 0.09999990463256836|[10.5699462890625...|-0.04743878697069...|\n",
      "|2002-01-02 00:00:00|  0.1399998664855957|[11.239990234375,...|0.015330662326837535|\n",
      "|2002-01-03 00:00:00|  0.2200000286102295|[-18.360107421875...|-0.04244236533168...|\n",
      "|2002-01-04 00:00:00|  0.1100001335144043|[-118.27001953125...|0.008920949839916852|\n",
      "|2002-01-07 00:00:00|  0.2200000286102295|[-128.36999511718...|-0.04365003501659721|\n",
      "|2002-01-08 00:00:00|                 0.0|[-149.89001464843...|-0.04540212063102472|\n",
      "|2002-01-09 00:00:00|-0.15000009536743164|[-136.65002441406...|-0.02496005745373...|\n",
      "+-------------------+--------------------+--------------------+--------------------+\n",
      "only showing top 500 rows\n",
      "\n"
     ]
    }
   ],
   "source": [
    "pred = lr_model.transform(DataStockFactors)\n",
    "pred.show(500)"
   ]
  },
  {
   "cell_type": "code",
   "execution_count": 72,
   "metadata": {},
   "outputs": [
    {
     "name": "stdout",
     "output_type": "stream",
     "text": [
      "Features:  [Row(merge_feature=DenseVector([96.27, -0.08, 3.6, 0.182, 9267.917, -0.0064, 12.96, 0.0331, 9.8117, -0.2828, 1.8974, 0.4266]))]\n"
     ]
    }
   ],
   "source": [
    "print 'Features: ', pred.select('merge_feature').rdd.take(1)"
   ]
  },
  {
   "cell_type": "markdown",
   "metadata": {},
   "source": [
    "### Thông số của model khi huấn luyện"
   ]
  },
  {
   "cell_type": "code",
   "execution_count": 73,
   "metadata": {},
   "outputs": [
    {
     "name": "stdout",
     "output_type": "stream",
     "text": [
      "numIterations: 53\n",
      "RMSE: 0.258479\n",
      "r2: 0.047771\n"
     ]
    }
   ],
   "source": [
    "trainingSummary = lr_model.summary\n",
    "print(\"numIterations: %d\" % trainingSummary.totalIterations)\n",
    "print(\"RMSE: %f\" % trainingSummary.rootMeanSquaredError)\n",
    "print(\"r2: %f\" % trainingSummary.r2) # % biến thiên trong model có thể xấp xỉ khi sử dụng model\n",
    "# print(\"objectiveHistory: %s\" % str(trainingSummary.objectiveHistory))"
   ]
  },
  {
   "cell_type": "code",
   "execution_count": 74,
   "metadata": {},
   "outputs": [
    {
     "name": "stdout",
     "output_type": "stream",
     "text": [
      "+-------+--------------------+--------------------+\n",
      "|summary|                Open|          prediction|\n",
      "+-------+--------------------+--------------------+\n",
      "|  count|                3464|                3464|\n",
      "|   mean|0.004592956299732244|0.004592956299732246|\n",
      "| stddev| 0.26492156033496794|0.057903904840036956|\n",
      "|    min|  -2.809999942779541| -0.3893831011249541|\n",
      "|    max|  2.7799999713897705|  0.3394912399767216|\n",
      "+-------+--------------------+--------------------+\n",
      "\n"
     ]
    }
   ],
   "source": [
    "pred.describe().show()"
   ]
  },
  {
   "cell_type": "code",
   "execution_count": 75,
   "metadata": {},
   "outputs": [],
   "source": [
    "# from pyspark.ml.evaluation import RegressionEvaluator \n",
    "# evaluator = RegressionEvaluator(predictionCol='prediction', labelCol='Open')\n",
    "# evaluator.setMetricName('r2').evaluate(pred)"
   ]
  },
  {
   "cell_type": "markdown",
   "metadata": {},
   "source": [
    "## 3. Thực hiện mô phỏng và tính giá trị VaR"
   ]
  },
  {
   "cell_type": "markdown",
   "metadata": {},
   "source": [
    "### Xác định dạng phân phối của các điều kiện thị trường\n",
    "Vì chúng ta không thể xác định trực tiếp các phân phối của các yếu tố thị trường nên ta cần phải xấp xỉ các phân phối này. Để làm được điều đó, ta sẽ xem xét đồ thị của các phân phối."
   ]
  },
  {
   "cell_type": "code",
   "execution_count": 76,
   "metadata": {},
   "outputs": [
    {
     "ename": "NameError",
     "evalue": "global name 'np' is not defined",
     "output_type": "error",
     "traceback": [
      "\u001b[0;31m---------------------------------------------------------------------------\u001b[0m",
      "\u001b[0;31mNameError\u001b[0m                                 Traceback (most recent call last)",
      "\u001b[0;32m<ipython-input-76-bbde6eeeb22d>\u001b[0m in \u001b[0;36m<module>\u001b[0;34m()\u001b[0m\n\u001b[1;32m     31\u001b[0m \u001b[0;34m\u001b[0m\u001b[0m\n\u001b[1;32m     32\u001b[0m \u001b[0;32mfor\u001b[0m \u001b[0mi\u001b[0m\u001b[0;34m,\u001b[0m \u001b[0mf_return\u001b[0m \u001b[0;32min\u001b[0m \u001b[0menumerate\u001b[0m\u001b[0;34m(\u001b[0m\u001b[0mfactorsReturn\u001b[0m\u001b[0;34m)\u001b[0m\u001b[0;34m:\u001b[0m\u001b[0;34m\u001b[0m\u001b[0;34m\u001b[0m\u001b[0m\n\u001b[0;32m---> 33\u001b[0;31m     \u001b[0mplotDistribution\u001b[0m\u001b[0;34m(\u001b[0m\u001b[0mf_return\u001b[0m\u001b[0;34m.\u001b[0m\u001b[0mselect\u001b[0m\u001b[0;34m(\u001b[0m\u001b[0;34m\"Open_\"\u001b[0m \u001b[0;34m+\u001b[0m \u001b[0mstr\u001b[0m\u001b[0;34m(\u001b[0m\u001b[0mi\u001b[0m\u001b[0;34m)\u001b[0m\u001b[0;34m)\u001b[0m\u001b[0;34m.\u001b[0m\u001b[0mtoPandas\u001b[0m\u001b[0;34m(\u001b[0m\u001b[0;34m)\u001b[0m\u001b[0;34m[\u001b[0m\u001b[0;34m\"Open_\"\u001b[0m \u001b[0;34m+\u001b[0m \u001b[0mstr\u001b[0m\u001b[0;34m(\u001b[0m\u001b[0mi\u001b[0m\u001b[0;34m)\u001b[0m\u001b[0;34m]\u001b[0m\u001b[0;34m)\u001b[0m\u001b[0;34m\u001b[0m\u001b[0;34m\u001b[0m\u001b[0m\n\u001b[0m\u001b[1;32m     34\u001b[0m \u001b[0;34m\u001b[0m\u001b[0m\n\u001b[1;32m     35\u001b[0m \u001b[0;31m# plotDistribution(factorsReturn[0])\u001b[0m\u001b[0;34m\u001b[0m\u001b[0;34m\u001b[0m\u001b[0;34m\u001b[0m\u001b[0m\n",
      "\u001b[0;32m<ipython-input-76-bbde6eeeb22d>\u001b[0m in \u001b[0;36mplotDistribution\u001b[0;34m(samples, plot, numSamples)\u001b[0m\n\u001b[1;32m      5\u001b[0m     \u001b[0mvmin\u001b[0m \u001b[0;34m=\u001b[0m \u001b[0mmin\u001b[0m\u001b[0;34m(\u001b[0m\u001b[0msamples\u001b[0m\u001b[0;34m)\u001b[0m\u001b[0;34m\u001b[0m\u001b[0;34m\u001b[0m\u001b[0m\n\u001b[1;32m      6\u001b[0m     \u001b[0mvmax\u001b[0m \u001b[0;34m=\u001b[0m \u001b[0mmax\u001b[0m\u001b[0;34m(\u001b[0m\u001b[0msamples\u001b[0m\u001b[0;34m)\u001b[0m\u001b[0;34m\u001b[0m\u001b[0;34m\u001b[0m\u001b[0m\n\u001b[0;32m----> 7\u001b[0;31m     \u001b[0mstddev\u001b[0m \u001b[0;34m=\u001b[0m \u001b[0mnp\u001b[0m\u001b[0;34m.\u001b[0m\u001b[0mstd\u001b[0m\u001b[0;34m(\u001b[0m\u001b[0msamples\u001b[0m\u001b[0;34m)\u001b[0m\u001b[0;34m\u001b[0m\u001b[0;34m\u001b[0m\u001b[0m\n\u001b[0m\u001b[1;32m      8\u001b[0m \u001b[0;34m\u001b[0m\u001b[0m\n\u001b[1;32m      9\u001b[0m     \u001b[0mdomain\u001b[0m \u001b[0;34m=\u001b[0m \u001b[0;34m[\u001b[0m\u001b[0mfloat\u001b[0m\u001b[0;34m(\u001b[0m\u001b[0mx\u001b[0m\u001b[0;34m)\u001b[0m \u001b[0;32mfor\u001b[0m \u001b[0mx\u001b[0m \u001b[0;32min\u001b[0m \u001b[0mnp\u001b[0m\u001b[0;34m.\u001b[0m\u001b[0marange\u001b[0m\u001b[0;34m(\u001b[0m\u001b[0mvmin\u001b[0m\u001b[0;34m,\u001b[0m \u001b[0mvmax\u001b[0m\u001b[0;34m,\u001b[0m \u001b[0;34m(\u001b[0m\u001b[0mvmax\u001b[0m\u001b[0;34m-\u001b[0m\u001b[0mvmin\u001b[0m\u001b[0;34m)\u001b[0m\u001b[0;34m/\u001b[0m\u001b[0mnumSamples\u001b[0m\u001b[0;34m)\u001b[0m\u001b[0;34m]\u001b[0m\u001b[0;34m\u001b[0m\u001b[0;34m\u001b[0m\u001b[0m\n",
      "\u001b[0;31mNameError\u001b[0m: global name 'np' is not defined"
     ]
    }
   ],
   "source": [
    "from pyspark.mllib.stat import KernelDensity\n",
    "import matplotlib.pyplot as plt\n",
    "\n",
    "def plotDistribution(samples, plot=True, numSamples=100):\n",
    "    vmin = min(samples)\n",
    "    vmax = max(samples)\n",
    "    stddev = np.std(samples)\n",
    "    \n",
    "    domain = [float(x) for x in np.arange(vmin, vmax, (vmax-vmin)/numSamples)]\n",
    "    \n",
    "    # a simple heuristic to select bandwidth\n",
    "    bandwidth = 1.06 * stddev * pow(len(samples), -.2)\n",
    "    \n",
    "    # estimate densityplotDistribution\n",
    "#     kde = KDEUnivariate(samples)\n",
    "#     kde.fit(bw=bandwidth)\n",
    "#     density = kde.evaluate(domain)\n",
    "    \n",
    "    kd = KernelDensity()\n",
    "    kd.setSample(sc.parallelize(samples))\n",
    "    kd.setBandwidth(bandwidth)\n",
    "    density = kd.estimate(domain)\n",
    "    \n",
    "    # plot\n",
    "    # We do a little change because later we will use the data but plot it after\n",
    "    if(plot):\n",
    "        plt.plot(domain, density)\n",
    "        plt.show()\n",
    "    else:\n",
    "        return domain,density\n",
    "\n",
    "for i, f_return in enumerate(factorsReturn):\n",
    "    plotDistribution(f_return.select(\"Open_\" + str(i)).toPandas()[\"Open_\" + str(i)])\n",
    "    \n",
    "# plotDistribution(factorsReturn[0])\n",
    "# plotDistribution(factorsReturn[1])\n",
    "# plotDistribution(factorsReturn[2])\n",
    "# plotDistribution(factorsReturn[3])"
   ]
  },
  {
   "cell_type": "code",
   "execution_count": null,
   "metadata": {},
   "outputs": [],
   "source": [
    "# pred_s = plotDistribution(pred.select('prediction').toPandas()['prediction'], plot=False)\n",
    "# true_s = plotDistribution(pred.select('Open').toPandas()['Open'],plot=False)\n",
    "\n",
    "# plt.plot(pred_s[0],pred_s[1])\n",
    "# plt.plot(true_s[0], true_s[1])\n",
    "# plt.show()"
   ]
  },
  {
   "cell_type": "markdown",
   "metadata": {},
   "source": [
    "Để đơn giản, ta coi các phân phối trên có thể được biểu diễn gần đúng bằng một phân phối chuẩn. Do đó, để lấy mẫu các yếu tố lợi nhuận của thị trường, ta có thể sử dụng phân phối chuẩn cho từng yếu tố và lấy mẫu từ các phân phối này một cách độc lập. Tuy nhiên, cách tiếp cận này sẽ bỏ qua thực tế là các yếu tố thị trường thường có mối tương quan. Ví dụ, khi giá dầu thô giảm, giá trái phiếu kho bạc cũng giảm theo.\n",
    "\n",
    "Phân phối chuẩn nhiều chiều (multivariate normal distribution) có thể giải quyết vấn đề này bằng cách lấy thông tin tương quan giữa các yếu tố. Mỗi mẫu từ một phân phối chuẩn nhiều chiều có thể được coi là một vectơ. Nếu xem xét theo từng chiều, phân phối các giá trị dọc theo chiều đó có dạng phân phối chuẩn. Tuy nhiên trong phân phối chung nhiều chiều, các biến sẽ không còn độc lập với nhau.\n",
    "\n",
    "Cụ thể, các yếu tố thị trường theo phân phối chuẩn nhiều chiều được tính bởi công thức sau:\n",
    "$$\\left(\\begin{array}{c}f_{1}\\\\f_{2}\\\\f_{3}\\\\f_{4} \\end{array}\\right)\n",
    "\\sim N \n",
    "\\left[\n",
    "  \\left(\n",
    "    \\begin{array}{c}\n",
    "      \\mu_1\\\\ \\mu_2 \\\\ \\mu_3 \\\\ \\mu_4 \n",
    "    \\end{array}\n",
    "  \\right), \n",
    "  \\left(\n",
    "    \\begin{array}{cccc}\n",
    "      \\sigma^2_1 & \\rho_{12} \\sigma_1\\sigma_2 & \\rho_{13} \\sigma_1\\sigma_3 & \\rho_{14} \\sigma_1\\sigma_4 \\\\ \n",
    "      \\rho_{12}\\sigma_2\\sigma_1 & \\sigma^2_2 & \\rho_{23} \\sigma_2\\sigma_3 & \\rho_{24} \\sigma_2\\sigma_4\\\\\n",
    "      \\rho_{13} \\sigma_3\\sigma_1 & \\rho_{23} \\sigma_3\\sigma_2 & \\sigma^2_3 & \\rho_{34} \\sigma_3\\sigma_4 \\\\ \n",
    "      \\rho_{14} \\sigma_4\\sigma_1 & \\rho_{24} \\sigma_4\\sigma_2 & \\rho_{34} \\sigma_3\\sigma_4 & \\sigma_4^2 \\\\ \n",
    "    \\end{array}\n",
    "  \\right)\n",
    "\\right]$$\n",
    "hay:\n",
    "$$f_t \\sim N(\\mu, \\sum)$$\n",
    "\n",
    "Trong đó $f_1$, $f_2$, $f_3$ và $f_4$ là các yếu tố thị trường, $\\sigma_i$ là độ lệch chuẩn của yếu tố $i$, $\\mu$ là vectơ kỳ vọng của sự biến động của các yếu tố và $\\sigma$ là ma trận hiệp phương sai của sự biến động của các yếu tố.\n",
    "\n",
    "Phân phối chuẩn nhiều chiều được tham số hóa với giá trị kỳ vọng dọc theo mỗi chiều và ma trận mô tả hiệp phương sai giữa mỗi cặp của các chiều.  Khi ma trận hiệp phương sai là ma trận chéo, phân phối sẽ lấy mẫu theo từng chiều một cách độc lập. Ngược lại, khi các giá trị ngoài các đường chéo khác không, phân phối sẽ nắm bắt mối quan hệ giữa các biến.\n",
    "\n",
    "\n",
    "Tiếp theo, chúng ta sẽ tính toán vectơ kỳ vọng và ma trận hiệp phương sai của phân phối chuẩn theo nhiều chiều từ dữ liệu lịch sử.\n",
    "\n"
   ]
  },
  {
   "cell_type": "markdown",
   "metadata": {},
   "source": [
    "### Tính vectơ kỳ vọng\n",
    "Vectơ kỳ vọng được tính bằng cách sử dụng dữ liệu lịch sử"
   ]
  },
  {
   "cell_type": "code",
   "execution_count": null,
   "metadata": {},
   "outputs": [],
   "source": [
    "from pyspark.mllib.stat import Statistics\n",
    "\n",
    "features = joinFactorsReturn.rdd.map(lambda row: row[1:])\n",
    "cStats = Statistics.colStats(features)\n",
    "means = cStats.mean()"
   ]
  },
  {
   "cell_type": "code",
   "execution_count": null,
   "metadata": {},
   "outputs": [],
   "source": [
    "print(means)"
   ]
  },
  {
   "cell_type": "markdown",
   "metadata": {},
   "source": [
    "### Tính ma trận hiệp phương sai\n",
    "Tính ma trận hiệp phương sai theo dữ liệu lịch sử"
   ]
  },
  {
   "cell_type": "code",
   "execution_count": null,
   "metadata": {},
   "outputs": [],
   "source": [
    "from pyspark.mllib.linalg.distributed import RowMatrix\n",
    "\n",
    "rm = RowMatrix(joinFactorsReturn.rdd.map(lambda x: list(x[1:])))\n",
    "#Tính ma trận hiệp phương sai corr_mat\n",
    "corr_mat = rm.computeCovariance().toArray().tolist()"
   ]
  },
  {
   "cell_type": "code",
   "execution_count": null,
   "metadata": {},
   "outputs": [],
   "source": [
    "print(corr_mat)"
   ]
  },
  {
   "cell_type": "markdown",
   "metadata": {},
   "source": [
    "### Tính phân phối theo nhiều chiều"
   ]
  },
  {
   "cell_type": "code",
   "execution_count": null,
   "metadata": {},
   "outputs": [],
   "source": [
    "import numpy as np\n",
    "\n",
    "sample = np.random.multivariate_normal(means, corr_mat)\n",
    "print(sample)"
   ]
  },
  {
   "cell_type": "markdown",
   "metadata": {},
   "source": [
    "Để kiểm tra độ chính xác, ta so sánh đồ thị của các phân phối chuẩn xấp xỉ với phân phối thực tế."
   ]
  },
  {
   "cell_type": "code",
   "execution_count": null,
   "metadata": {},
   "outputs": [],
   "source": [
    "numSamples = 50000 # to plot normal distributions\n",
    "f, axarr = plt.subplots(2, 2)\n",
    "f.set_figwidth(20)\n",
    "f.set_figheight(10)\n",
    "for idx in range(0,4):\n",
    "    factorReturn = [x[idx] for x in features.collect()]\n",
    "    i, j = divmod(idx, 2)\n",
    "    ax = axarr[i, j]\n",
    "    normalEstimates = [float(np.random.multivariate_normal(means, corr_mat)[idx]) for k in range(numSamples)]\n",
    "    domainEstimates, densityEstimates = plotDistribution(normalEstimates, plot=False)\n",
    "    domainFactor, densityFactor = plotDistribution(factorReturn, plot=False)\n",
    "    ax.plot(domainEstimates, densityEstimates, lw=2)\n",
    "    ax.plot(domainFactor, densityFactor, lw=2)\n",
    "    ax.set_title(\"Variations over\")\n",
    "    ax.set_xlabel(\"2 weeks window\") \n",
    "    ax.set_ylabel(\"variation over window\") \n",
    "    ax.legend([\"estimate\", \"real\"], fontsize=\"xx-large\")\n",
    "f.subplots_adjust(hspace=0.3)"
   ]
  },
  {
   "cell_type": "markdown",
   "metadata": {},
   "source": [
    "### Thực hiện mô phỏng và tính giá trị VaR"
   ]
  },
  {
   "cell_type": "markdown",
   "metadata": {},
   "source": [
    "Trong phần này, chúng ta sẽ chạy mô phỏng Monte Carlo với 10.000 lần chạy, sử dụng Spark để song song hóa."
   ]
  },
  {
   "cell_type": "code",
   "execution_count": null,
   "metadata": {},
   "outputs": [],
   "source": [
    "def sign(number):\n",
    "    if number<0:\n",
    "        return -1\n",
    "    else:\n",
    "        return 1\n",
    "\n",
    "def featurize(factorReturns):\n",
    "    factorReturns = list(factorReturns)\n",
    "    squaredReturns = [sign(element)*(element)**2 for element in factorReturns]\n",
    "    squareRootedReturns = [sign(element)*abs(element)**0.5 for element in factorReturns]\n",
    "    # concat new features\n",
    "    return squaredReturns + squareRootedReturns + factorReturns\n",
    "\n",
    "def simulateTrialReturns(numTrials, factorMeans, factorCov, weights, testFeature = None):\n",
    "    trialReturns = []\n",
    "    for i in range(0, numTrials):\n",
    "        # generate sample of factors' returns\n",
    "        if testFeature is None: \n",
    "            trialFactorReturns = np.random.multivariate_normal(factorMeans, factorCov)\n",
    "        \n",
    "            # featurize the factors' returns\n",
    "            trialFeatures = featurize(trialFactorReturns)\n",
    "        else: \n",
    "            trialFeatures = testFeature\n",
    "        \n",
    "        # insert weight for intercept term\n",
    "        trialFeatures.insert(0,1)\n",
    "        \n",
    "        # calculate the return of each instrument\n",
    "        # then calulate the total of return for this trial features\n",
    "        instrumentReturn =  sum(weights * trialFeatures)\n",
    "        print(instrumentReturn)\n",
    "        \n",
    "        trialReturns.append(instrumentReturn)\n",
    "    return trialReturns\n",
    "\n",
    "\n",
    "parallelism = 4\n",
    "numTrials = 10000\n",
    "trial_indexes = list(range(0, parallelism))\n",
    "seedRDD = sc.parallelize(trial_indexes, parallelism)\n",
    "\n",
    "weights = np.append(lr_model.intercept, lr_model.coefficients)\n",
    "bFactorWeights = sc.broadcast(weights)\n",
    "feat = [96.27001953125,-0.0799560546875,3.5999984741210938,0.18199968338012695,9267.9169921875,\n",
    "        -0.006392970681190491,12.959988594055176,0.03312388435006142,9.811728477478027,\n",
    "        -0.2827650308609009,1.8973661661148071,0.4266141951084137]\n",
    "print simulateTrialReturns(1, means, corr_mat, bFactorWeights.value, feat)\n",
    "\n",
    "trials = seedRDD.flatMap(lambda idx: \\\n",
    "                simulateTrialReturns(\n",
    "                    max(int(numTrials/parallelism), 1), \n",
    "                    means, corr_mat,\n",
    "                    bFactorWeights.value,\n",
    "                ))\n",
    "trials.collect()\n",
    "trials.cache()"
   ]
  },
  {
   "cell_type": "markdown",
   "metadata": {},
   "source": [
    "Ta nhận được đồ thị phân phối lợi nhuận ngẫu nhiên như sau:"
   ]
  },
  {
   "cell_type": "code",
   "execution_count": null,
   "metadata": {},
   "outputs": [],
   "source": [
    "plotDistribution(trials.map(lambda x: float(x)).collect())"
   ]
  },
  {
   "cell_type": "markdown",
   "metadata": {},
   "source": [
    "Để tính giá trị 5% VaR, chúng ta cần ra giá trị sao cho chỉ có 5% khả năng thua lỗ có giá trị lớn hơn nó. Với phân phối đã tính ở bước trên, điều này được thực hiện đơn giản bằng cách tìm ra giá trị mà có 5% giá trị thử nghiệm nhỏ hơn và 95% giá trị thử nghiệm lớn hơn. Đầu tiên ta sử dụng phương thức TakeOrdered để lấy ra 5% thử nghiệm tồi nhất và sau đó VaR được tính bằng giá trị lớn nhất trong tập con này.\n",
    "\n",
    "Ta có tính CVaR bằng cách tương tự. Thay vì lấy giá trị thử nghiệm tốt nhất từ 5% thử nghiệm tồi tệ nhất, chúng ta lấy giá trị trung bình từ nhóm thử nghiệm đó:"
   ]
  },
  {
   "cell_type": "code",
   "execution_count": null,
   "metadata": {},
   "outputs": [],
   "source": [
    "def fivePercentVaR(trials):\n",
    "    numTrials = trials.count()\n",
    "    topLosses = trials.takeOrdered(int(max(round(numTrials/20.0), 1)))\n",
    "    return topLosses[-1]\n",
    "\n",
    "# an extension of VaR\n",
    "def fivePercentCVaR(trials):\n",
    "    numTrials = trials.count()\n",
    "    topLosses = trials.takeOrdered(int(max(round(numTrials/20.0), 1)))\n",
    "    return sum(topLosses)/len(topLosses)"
   ]
  },
  {
   "cell_type": "code",
   "execution_count": null,
   "metadata": {},
   "outputs": [],
   "source": [
    "valueAtRisk = fivePercentVaR(trials)\n",
    "conditionalValueAtRisk = fivePercentCVaR(trials)\n",
    "\n",
    "print \"Value at Risk(VaR) 5%:\", valueAtRisk\n",
    "print \"Conditional Value at Risk(CVaR) 5%:\", conditionalValueAtRisk"
   ]
  },
  {
   "cell_type": "code",
   "execution_count": null,
   "metadata": {},
   "outputs": [],
   "source": [
    "trials.collect()"
   ]
  },
  {
   "cell_type": "code",
   "execution_count": null,
   "metadata": {},
   "outputs": [],
   "source": [
    "lr_model.coefficients"
   ]
  },
  {
   "cell_type": "code",
   "execution_count": null,
   "metadata": {},
   "outputs": [],
   "source": []
  }
 ],
 "metadata": {
  "kernelspec": {
   "display_name": "Python 3",
   "language": "python",
   "name": "python3"
  },
  "language_info": {
   "codemirror_mode": {
    "name": "ipython",
    "version": 3
   },
   "file_extension": ".py",
   "mimetype": "text/x-python",
   "name": "python",
   "nbconvert_exporter": "python",
   "pygments_lexer": "ipython3",
   "version": "3.6.5"
  }
 },
 "nbformat": 4,
 "nbformat_minor": 2
}
